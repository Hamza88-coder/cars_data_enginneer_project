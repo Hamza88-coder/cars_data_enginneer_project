{
 "cells": [
  {
   "cell_type": "markdown",
   "metadata": {
    "application/vnd.databricks.v1+cell": {
     "cellMetadata": {
      "byteLimit": 2048000,
      "rowLimit": 10000
     },
     "inputWidgets": {},
     "nuid": "c989b14d-fa57-4beb-90ac-f6f8001b4d99",
     "showTitle": false,
     "tableResultSettingsMap": {},
     "title": ""
    }
   },
   "source": [
    "Create Flag parameter"
   ]
  },
  {
   "cell_type": "code",
   "execution_count": 0,
   "metadata": {
    "application/vnd.databricks.v1+cell": {
     "cellMetadata": {
      "byteLimit": 2048000,
      "rowLimit": 10000
     },
     "inputWidgets": {},
     "nuid": "087489bd-abc0-4675-b458-1211a23d46ba",
     "showTitle": false,
     "tableResultSettingsMap": {},
     "title": ""
    }
   },
   "outputs": [],
   "source": [
    "dbutils.widgets.text('incremental_flag','0')"
   ]
  },
  {
   "cell_type": "code",
   "execution_count": 0,
   "metadata": {
    "application/vnd.databricks.v1+cell": {
     "cellMetadata": {
      "byteLimit": 2048000,
      "rowLimit": 10000
     },
     "inputWidgets": {},
     "nuid": "8d2e9006-9a49-4610-a095-58ca7fea3cc9",
     "showTitle": false,
     "tableResultSettingsMap": {},
     "title": ""
    }
   },
   "outputs": [],
   "source": [
    "incremental_flag = dbutils.widgets.get('incremental_flag')"
   ]
  },
  {
   "cell_type": "markdown",
   "metadata": {
    "application/vnd.databricks.v1+cell": {
     "cellMetadata": {
      "byteLimit": 2048000,
      "rowLimit": 10000
     },
     "inputWidgets": {},
     "nuid": "c9324987-6b5c-4992-8065-733a45fe8d62",
     "showTitle": false,
     "tableResultSettingsMap": {},
     "title": ""
    }
   },
   "source": [
    "Creating Dimension Model"
   ]
  },
  {
   "cell_type": "markdown",
   "metadata": {
    "application/vnd.databricks.v1+cell": {
     "cellMetadata": {
      "byteLimit": 2048000,
      "rowLimit": 10000
     },
     "inputWidgets": {},
     "nuid": "67f5fa7e-52c6-4188-8951-1e197ea1ef0f",
     "showTitle": false,
     "tableResultSettingsMap": {},
     "title": ""
    }
   },
   "source": [
    "Creating dimension model"
   ]
  },
  {
   "cell_type": "markdown",
   "metadata": {
    "application/vnd.databricks.v1+cell": {
     "cellMetadata": {
      "byteLimit": 2048000,
      "rowLimit": 10000
     },
     "inputWidgets": {},
     "nuid": "7cddabc6-b52a-4f71-9ff3-831d89e997c5",
     "showTitle": false,
     "tableResultSettingsMap": {},
     "title": ""
    }
   },
   "source": [
    "Fetch Realtive Columns"
   ]
  },
  {
   "cell_type": "code",
   "execution_count": 0,
   "metadata": {
    "application/vnd.databricks.v1+cell": {
     "cellMetadata": {
      "byteLimit": 2048000,
      "rowLimit": 10000
     },
     "inputWidgets": {},
     "nuid": "c446d539-c40f-4e37-b8a7-4d784a55f58c",
     "showTitle": false,
     "tableResultSettingsMap": {},
     "title": ""
    }
   },
   "outputs": [],
   "source": [
    "df_scr=spark.sql(\"\"\"SELECT  DISTINCT(Model) FROM parquet.`abfss://silver@carsmalyanadatalake.dfs.core.windows.net/cars_sales`\"\"\")"
   ]
  },
  {
   "cell_type": "markdown",
   "metadata": {
    "application/vnd.databricks.v1+cell": {
     "cellMetadata": {
      "byteLimit": 2048000,
      "rowLimit": 10000
     },
     "inputWidgets": {},
     "nuid": "23715d32-81ba-4cc5-85fb-569b26c74ed6",
     "showTitle": false,
     "tableResultSettingsMap": {},
     "title": ""
    }
   },
   "source": [
    "dim_make Sink - Initial and incremental"
   ]
  },
  {
   "cell_type": "code",
   "execution_count": 0,
   "metadata": {
    "application/vnd.databricks.v1+cell": {
     "cellMetadata": {
      "byteLimit": 2048000,
      "implicitDf": true,
      "rowLimit": 10000
     },
     "inputWidgets": {},
     "nuid": "4fff808b-c434-49a7-858b-56d781db4a98",
     "showTitle": false,
     "tableResultSettingsMap": {},
     "title": ""
    }
   },
   "outputs": [],
   "source": [
    "    \n",
    "if spark.catalog.tableExists('cars.gold.dim_Model'):    \n",
    "    df_sink=spark.sql(\"\"\"SELECT dim_Model_key, Model\n",
    "     FROM cars_cat.gold.dim_Model)\n",
    "\n",
    "   \n",
    "    \n",
    "else:\n",
    "     df_sink=spark.sql(\"\"\"SELECT 1 as dim_Model_key, Model\n",
    "     FROM parquet.`abfss://silver@carsmalyanadatalake.dfs.core.windows.net/cars_sales`\n",
    "     where 1=0\"\"\")\n",
    "\n"
   ]
  },
  {
   "cell_type": "markdown",
   "metadata": {
    "application/vnd.databricks.v1+cell": {
     "cellMetadata": {
      "byteLimit": 2048000,
      "rowLimit": 10000
     },
     "inputWidgets": {},
     "nuid": "a0c2855e-387b-4e07-a620-3bbc85b7f5ec",
     "showTitle": false,
     "tableResultSettingsMap": {},
     "title": ""
    }
   },
   "source": [
    "Filtering new records and old records"
   ]
  },
  {
   "cell_type": "markdown",
   "metadata": {
    "application/vnd.databricks.v1+cell": {
     "cellMetadata": {
      "byteLimit": 2048000,
      "rowLimit": 10000
     },
     "inputWidgets": {},
     "nuid": "56877713-33a7-48d3-921b-7e483eaab72b",
     "showTitle": false,
     "tableResultSettingsMap": {},
     "title": ""
    }
   },
   "source": []
  },
  {
   "cell_type": "code",
   "execution_count": 0,
   "metadata": {
    "application/vnd.databricks.v1+cell": {
     "cellMetadata": {
      "byteLimit": 2048000,
      "rowLimit": 10000
     },
     "inputWidgets": {},
     "nuid": "157fc99f-41fe-43b8-8253-4fead6c5f671",
     "showTitle": false,
     "tableResultSettingsMap": {},
     "title": ""
    }
   },
   "outputs": [],
   "source": [
    "df_filter=df_scr.join(df_sink, df_scr.Model==df_sink.Model, 'left').select(df_scr.Model,df_sink.dim_Model_key)"
   ]
  },
  {
   "cell_type": "code",
   "execution_count": 0,
   "metadata": {
    "application/vnd.databricks.v1+cell": {
     "cellMetadata": {
      "byteLimit": 2048000,
      "rowLimit": 10000
     },
     "inputWidgets": {},
     "nuid": "4d753863-0ec6-43df-87af-425a694aba67",
     "showTitle": false,
     "tableResultSettingsMap": {},
     "title": ""
    }
   },
   "outputs": [
    {
     "output_type": "display_data",
     "data": {
      "text/html": [
       "<style scoped>\n",
       "  .table-result-container {\n",
       "    max-height: 300px;\n",
       "    overflow: auto;\n",
       "  }\n",
       "  table, th, td {\n",
       "    border: 1px solid black;\n",
       "    border-collapse: collapse;\n",
       "  }\n",
       "  th, td {\n",
       "    padding: 5px;\n",
       "  }\n",
       "  th {\n",
       "    text-align: left;\n",
       "  }\n",
       "</style><div class='table-result-container'><table class='table-result'><thead style='background-color: white'><tr><th>Model</th><th>dim_Model_key</th></tr></thead><tbody><tr><td>Intrepid ES 4dr</td><td>null</td></tr><tr><td>MDX</td><td>null</td></tr><tr><td>TL 4dr</td><td>null</td></tr><tr><td>MX-5 Miata convertible 2dr</td><td>null</td></tr><tr><td>Envoy XUV SLE</td><td>null</td></tr><tr><td>530i 4dr</td><td>null</td></tr><tr><td>Spectra 4dr</td><td>null</td></tr><tr><td>A8 L Quattro 4dr</td><td>null</td></tr><tr><td>RX-8 4dr manual</td><td>null</td></tr><tr><td>Elantra GT 4dr hatch</td><td>null</td></tr><tr><td>300M Special Edition 4dr</td><td>null</td></tr><tr><td>G35 Sport Coupe 2dr</td><td>null</td></tr><tr><td>Town and Country LX</td><td>null</td></tr><tr><td>Freestar SE</td><td>null</td></tr><tr><td>Focus SVT 2dr</td><td>null</td></tr><tr><td>Sebring 4dr</td><td>null</td></tr><tr><td>Stratus SE 4dr</td><td>null</td></tr><tr><td>Highlander V6</td><td>null</td></tr><tr><td>Spectra GS 4dr hatch</td><td>null</td></tr><tr><td>S500 4dr</td><td>null</td></tr><tr><td>Impala LS 4dr</td><td>null</td></tr><tr><td>Malibu LT 4dr</td><td>null</td></tr><tr><td>A6 2.7 Turbo Quattro 4dr</td><td>null</td></tr><tr><td>Pathfinder SE</td><td>null</td></tr><tr><td>Phaeton 4dr</td><td>null</td></tr><tr><td>LeSabre Limited 4dr</td><td>null</td></tr><tr><td>Outback</td><td>null</td></tr><tr><td>Z4 convertible 2.5i 2dr</td><td>null</td></tr><tr><td>Lancer OZ Rally 4dr auto</td><td>null</td></tr><tr><td>Mazda3 i 4dr</td><td>null</td></tr><tr><td>Passat GLS 1.8T</td><td>null</td></tr><tr><td>Camry LE V6 4dr</td><td>null</td></tr><tr><td>Grand Am GT 2dr</td><td>null</td></tr><tr><td>Impreza WRX 4dr</td><td>null</td></tr><tr><td>Optima LX V6 4dr</td><td>null</td></tr><tr><td>IS 300 4dr auto</td><td>null</td></tr><tr><td>Santa Fe GLS</td><td>null</td></tr><tr><td>Civic HX 2dr</td><td>null</td></tr><tr><td>Mazda3 s 4dr</td><td>null</td></tr><tr><td>RX-8 4dr automatic</td><td>null</td></tr><tr><td>Monte Carlo LS 2dr</td><td>null</td></tr><tr><td>E500</td><td>null</td></tr><tr><td>Outback H6 4dr</td><td>null</td></tr><tr><td>Deville DTS 4dr</td><td>null</td></tr><tr><td>NSX coupe 2dr manual S</td><td>null</td></tr><tr><td>RX 330</td><td>null</td></tr><tr><td>Sable GS</td><td>null</td></tr><tr><td>LS V8 Sport 4dr</td><td>null</td></tr><tr><td>Element LX</td><td>null</td></tr><tr><td>XK8 convertible 2dr</td><td>null</td></tr><tr><td>Camry Solara SE V6 2dr</td><td>null</td></tr><tr><td>S-Type R 4dr</td><td>null</td></tr><tr><td>Amanti 4dr</td><td>null</td></tr><tr><td>Cavalier 2dr</td><td>null</td></tr><tr><td>Safari SLE</td><td>null</td></tr><tr><td>A4 3.0 Quattro 4dr auto</td><td>null</td></tr><tr><td>Sentra 1.8 S 4dr</td><td>null</td></tr><tr><td>xB</td><td>null</td></tr><tr><td>Montero XLS</td><td>null</td></tr><tr><td>Focus ZTW</td><td>null</td></tr><tr><td>Cayenne S</td><td>null</td></tr><tr><td>Alero GLS 2dr</td><td>null</td></tr><tr><td>Town Car Signature 4dr</td><td>null</td></tr><tr><td>Town Car Ultimate 4dr</td><td>null</td></tr><tr><td>Odyssey LX</td><td>null</td></tr><tr><td>Sunfire 1SC 2dr</td><td>null</td></tr><tr><td>Elantra GT 4dr</td><td>null</td></tr><tr><td>Mazda6 i 4dr</td><td>null</td></tr><tr><td>Camry Solara SLE V6 2dr</td><td>null</td></tr><tr><td>X5 4.4i</td><td>null</td></tr><tr><td>Venture LS</td><td>null</td></tr><tr><td>XKR convertible 2dr</td><td>null</td></tr><tr><td>Mustang 2dr (convertible)</td><td>null</td></tr><tr><td>Sebring Touring 4dr</td><td>null</td></tr><tr><td>Civic LX 4dr</td><td>null</td></tr><tr><td>Focus LX 4dr</td><td>null</td></tr><tr><td>Sebring convertible 2dr</td><td>null</td></tr><tr><td>Dakota Club Cab</td><td>null</td></tr><tr><td>Aeno S 4dr</td><td>null</td></tr><tr><td>XLR convertible 2dr</td><td>null</td></tr><tr><td>Murano SL</td><td>null</td></tr><tr><td>Sable LS Premium 4dr</td><td>null</td></tr><tr><td>IS 300 SportCross</td><td>null</td></tr><tr><td>Expedition 4.6 XLT</td><td>null</td></tr><tr><td>Aviator Ultimate</td><td>null</td></tr><tr><td>Durango SLT</td><td>null</td></tr><tr><td>Passat W8</td><td>null</td></tr><tr><td>null</td><td>null</td></tr><tr><td>MR2 Spyder convertible 2dr</td><td>null</td></tr><tr><td>S4 Avant Quattro</td><td>null</td></tr><tr><td>Verona LX 4dr</td><td>null</td></tr><tr><td>Focus ZX3 2dr hatch</td><td>null</td></tr><tr><td>S60 R 4dr</td><td>null</td></tr><tr><td>A4 1.8T 4dr</td><td>null</td></tr><tr><td>Monterey Luxury</td><td>null</td></tr><tr><td>C240 4dr</td><td>null</td></tr><tr><td>330i 4dr</td><td>null</td></tr><tr><td>Stratus SXT 4dr</td><td>null</td></tr><tr><td>Town Car Ultimate L 4dr</td><td>null</td></tr><tr><td>TrailBlazer LT</td><td>null</td></tr><tr><td>XJR 4dr</td><td>null</td></tr><tr><td>Tracker</td><td>null</td></tr><tr><td>PT Cruiser 4dr</td><td>null</td></tr><tr><td>Vibe</td><td>null</td></tr><tr><td>CR-V LX</td><td>null</td></tr><tr><td>3.5 RL w/Navigation 4dr</td><td>null</td></tr><tr><td>Passat GLS 4dr</td><td>null</td></tr><tr><td>C70 LPT convertible 2dr</td><td>null</td></tr><tr><td>Outback H-6 VDC 4dr</td><td>null</td></tr><tr><td>Tundra Access Cab V6 SR5</td><td>null</td></tr><tr><td>911 Targa coupe 2dr</td><td>null</td></tr><tr><td>Ion1 4dr</td><td>null</td></tr><tr><td>525i 4dr</td><td>null</td></tr><tr><td>FX35</td><td>null</td></tr><tr><td>Dakota Regular Cab</td><td>null</td></tr><tr><td>XKR coupe 2dr</td><td>null</td></tr><tr><td>C320 Sport 4dr</td><td>null</td></tr><tr><td>xA 4dr hatch</td><td>null</td></tr><tr><td>CLK320 coupe 2dr (convertible)</td><td>null</td></tr><tr><td>Crown Victoria LX 4dr</td><td>null</td></tr><tr><td>C320 4dr</td><td>null</td></tr><tr><td>C230 Sport 2dr</td><td>null</td></tr><tr><td>911 Carrera convertible 2dr (coupe)</td><td>null</td></tr><tr><td>G35 4dr</td><td>null</td></tr><tr><td>Golf GLS 4dr</td><td>null</td></tr><tr><td>Vanden Plas 4dr</td><td>null</td></tr><tr><td>Cooper</td><td>null</td></tr><tr><td>Sebring Limited convertible 2dr</td><td>null</td></tr><tr><td>325xi 4dr</td><td>null</td></tr><tr><td>Echo 2dr auto</td><td>null</td></tr><tr><td>Accent 2dr hatch</td><td>null</td></tr><tr><td>Intrepid SE 4dr</td><td>null</td></tr><tr><td>Forenza EX 4dr</td><td>null</td></tr><tr><td>Caravan SE</td><td>null</td></tr><tr><td>RS 6 4dr</td><td>null</td></tr><tr><td>Pilot LX</td><td>null</td></tr><tr><td>XG350 L 4dr</td><td>null</td></tr><tr><td>IS 300 4dr manual</td><td>null</td></tr><tr><td>Outback Limited Sedan 4dr</td><td>null</td></tr><tr><td>Concorde LX 4dr</td><td>null</td></tr><tr><td>A4 3.0 Quattro convertible 2dr</td><td>null</td></tr><tr><td>SRX V8</td><td>null</td></tr><tr><td>325Ci 2dr</td><td>null</td></tr><tr><td>Lancer ES 4dr</td><td>null</td></tr><tr><td>lon2 4dr</td><td>null</td></tr><tr><td>Echo 2dr manual</td><td>null</td></tr><tr><td>GTI 1.8T 2dr hatch</td><td>null</td></tr><tr><td>Altima S 4dr</td><td>null</td></tr><tr><td>Cavalier LS 2dr</td><td>null</td></tr><tr><td>9-3 Aero convertible 2dr</td><td>null</td></tr><tr><td>Sedona LX</td><td>null</td></tr><tr><td>Q45 Luxury 4dr</td><td>null</td></tr><tr><td>Aveo LS 4dr hatch</td><td>null</td></tr><tr><td>Insight 2dr (gas/electric)</td><td>null</td></tr><tr><td>Seville SLS 4dr</td><td>null</td></tr><tr><td>LeSabre Custom 4dr</td><td>null</td></tr><tr><td>Sonata LX 4dr</td><td>null</td></tr><tr><td>Aztekt</td><td>null</td></tr><tr><td>LS 430 4dr</td><td>null</td></tr><tr><td>9-5 Aero 4dr</td><td>null</td></tr><tr><td>MX-5 Miata LS convertible 2dr</td><td>null</td></tr><tr><td>Impala SS 4dr</td><td>null</td></tr><tr><td>Galant GTS 4dr</td><td>null</td></tr><tr><td>Elantra GLS 4dr</td><td>null</td></tr><tr><td>Outlander LS</td><td>null</td></tr><tr><td>X-Type 2.5 4dr</td><td>null</td></tr><tr><td>Grand Prix GT1 4dr</td><td>null</td></tr><tr><td>Legacy GT 4dr</td><td>null</td></tr><tr><td>S40 4dr</td><td>null</td></tr><tr><td>X-Type 3.0 4dr</td><td>null</td></tr><tr><td>Crown Victoria LX Sport 4dr</td><td>null</td></tr><tr><td>Neon SE 4dr</td><td>null</td></tr><tr><td>Grand Marquis LS Premium 4dr</td><td>null</td></tr><tr><td>325i 4dr</td><td>null</td></tr><tr><td>Lancer Evolution 4dr</td><td>null</td></tr><tr><td>FX45</td><td>null</td></tr><tr><td>XJ8 4dr</td><td>null</td></tr><tr><td>Optima LX 4dr</td><td>null</td></tr><tr><td>Canyon Z85 SL Regular Cab</td><td>null</td></tr><tr><td>Town and Country Limited</td><td>null</td></tr><tr><td>Avalon XLS 4dr</td><td>null</td></tr><tr><td>TSX 4dr</td><td>null</td></tr><tr><td>A6 3.0 Avant Quattro</td><td>null</td></tr><tr><td>Park Avenue 4dr</td><td>null</td></tr><tr><td>9-3 Arc convertible 2dr</td><td>null</td></tr><tr><td>Alero GX 2dr</td><td>null</td></tr><tr><td>S80 2.9 4dr</td><td>null</td></tr><tr><td>330Ci 2dr</td><td>null</td></tr><tr><td>Sequoia SR5</td><td>null</td></tr><tr><td>Boxster convertible 2dr</td><td>null</td></tr><tr><td>A6 4.2 Quattro 4dr</td><td>null</td></tr><tr><td>B4000 SE Cab Plus</td><td>null</td></tr><tr><td>350Z coupe 2dr</td><td>null</td></tr><tr><td>Sonoma Crew Cab</td><td>null</td></tr><tr><td>545iA 4dr</td><td>null</td></tr><tr><td>745i 4dr</td><td>null</td></tr><tr><td>L300 2</td><td>null</td></tr><tr><td>A4 3.0 convertible 2dr</td><td>null</td></tr><tr><td>Jetta GLS TDI 4dr</td><td>null</td></tr><tr><td>Sonata GLS 4dr</td><td>null</td></tr><tr><td>lon2 quad coupe 2dr</td><td>null</td></tr><tr><td>Eclipse Spyder GT convertible 2dr</td><td>null</td></tr><tr><td>ML500</td><td>null</td></tr><tr><td>C70 HPT convertible 2dr</td><td>null</td></tr><tr><td>Camry XLE V6 4dr</td><td>null</td></tr><tr><td>Aerio LX 4dr</td><td>null</td></tr><tr><td>9-3 Aero 4dr</td><td>null</td></tr><tr><td>Rio Cinco</td><td>null</td></tr><tr><td>Sentra SE-R 4dr</td><td>null</td></tr><tr><td>CLK500 coupe 2dr (convertible)</td><td>null</td></tr><tr><td>Quest SE</td><td>null</td></tr><tr><td>Maxima SE 4dr</td><td>null</td></tr><tr><td>lon3 quad coupe 2dr</td><td>null</td></tr><tr><td>XK8 coupe 2dr</td><td>null</td></tr><tr><td>Thunderbird Deluxe convert w/hardtop 2d</td><td>null</td></tr><tr><td>Prius 4dr (gas/electric)</td><td>null</td></tr><tr><td>E320</td><td>null</td></tr><tr><td>Passat GLX V6 4MOTION 4dr</td><td>null</td></tr><tr><td>Grand Cherokee Laredo</td><td>null</td></tr><tr><td>Odyssey EX</td><td>null</td></tr><tr><td>G500</td><td>null</td></tr><tr><td>Silhouette GL</td><td>null</td></tr><tr><td>Tiburon GT V6 2dr</td><td>null</td></tr><tr><td>Tribute DX 2.0</td><td>null</td></tr><tr><td>Grand Marquis GS 4dr</td><td>null</td></tr><tr><td>Lancer Sportback LS</td><td>null</td></tr><tr><td>Pacifica</td><td>null</td></tr><tr><td>S-Type 4.2 4dr</td><td>null</td></tr><tr><td>Discovery SE</td><td>null</td></tr><tr><td>9-5 Arc 4dr</td><td>null</td></tr><tr><td>Astro</td><td>null</td></tr><tr><td>Montana</td><td>null</td></tr><tr><td>Z4 convertible 3.0i 2dr</td><td>null</td></tr><tr><td>RSX Type S 2dr</td><td>null</td></tr><tr><td>Escape XLS</td><td>null</td></tr><tr><td>Cavalier 4dr</td><td>null</td></tr><tr><td>Neon SXT 4dr</td><td>null</td></tr><tr><td>SLK230 convertible 2dr</td><td>null</td></tr><tr><td>B2300 SX Regular Cab</td><td>null</td></tr><tr><td>GS 300 4dr</td><td>null</td></tr><tr><td>ES 330 4dr</td><td>null</td></tr><tr><td>LS V6 Premium 4dr</td><td>null</td></tr><tr><td>Corolla S 4dr</td><td>null</td></tr><tr><td>Sienna XLE Limited</td><td>null</td></tr><tr><td>LX 470</td><td>null</td></tr><tr><td>350Z Enthusiast convertible 2dr</td><td>null</td></tr><tr><td>Lancer LS 4dr</td><td>null</td></tr><tr><td>Celica GT-S 2dr</td><td>null</td></tr><tr><td>330Ci convertible 2dr</td><td>null</td></tr><tr><td>Colorado Z85</td><td>null</td></tr><tr><td>300M 4dr</td><td>null</td></tr><tr><td>New Beetle GLS convertible 2dr</td><td>null</td></tr><tr><td>lon3 4dr</td><td>null</td></tr><tr><td>A4 3.0 4dr</td><td>null</td></tr><tr><td>911 Carrera 4S coupe 2dr (convert)</td><td>null</td></tr><tr><td>TT 1.8 Quattro 2dr (convertible)</td><td>null</td></tr><tr><td>9-3 Arc Sport 4dr</td><td>null</td></tr><tr><td>Marauder 4dr</td><td>null</td></tr><tr><td>Grand Prix GT2 4dr</td><td>null</td></tr><tr><td>SLK32 AMG 2dr</td><td>null</td></tr><tr><td>Baja</td><td>null</td></tr><tr><td>Rio 4dr manual</td><td>null</td></tr><tr><td>325xi Sport</td><td>null</td></tr><tr><td>CL500 2dr</td><td>null</td></tr><tr><td>Sorento LX</td><td>null</td></tr><tr><td>Sable GS 4dr</td><td>null</td></tr><tr><td>Monte Carlo SS 2dr</td><td>null</td></tr><tr><td>Concorde LXi 4dr</td><td>null</td></tr><tr><td>Impala 4dr</td><td>null</td></tr><tr><td>Xterra XE V6</td><td>null</td></tr><tr><td>Malibu 4dr</td><td>null</td></tr><tr><td>Rio 4dr auto</td><td>null</td></tr><tr><td>RAV4</td><td>null</td></tr><tr><td>Diamante LS 4dr</td><td>null</td></tr><tr><td>4Runner SR5 V6</td><td>null</td></tr><tr><td>Sienna CE</td><td>null</td></tr><tr><td>Malibu Maxx LS</td><td>null</td></tr><tr><td>Camry Solara SE 2dr</td><td>null</td></tr><tr><td>Eclipse GTS 2dr</td><td>null</td></tr><tr><td>S2000 convertible 2dr</td><td>null</td></tr><tr><td>Yukon 1500 SLE</td><td>null</td></tr><tr><td>Accord LX 2dr</td><td>null</td></tr><tr><td>Aveo 4dr</td><td>null</td></tr><tr><td>Mountaineer</td><td>null</td></tr><tr><td>Aerio SX</td><td>null</td></tr><tr><td>Civic DX 2dr</td><td>null</td></tr><tr><td>Rainier</td><td>null</td></tr><tr><td>Taurus LX 4dr</td><td>null</td></tr><tr><td>Legacy L 4dr</td><td>null</td></tr><tr><td>TT 1.8 convertible 2dr (coupe)</td><td>null</td></tr><tr><td>S80 2.5T 4dr</td><td>null</td></tr><tr><td>XG350 4dr</td><td>null</td></tr><tr><td>Touareg V6</td><td>null</td></tr><tr><td>Civic Si 2dr hatch</td><td>null</td></tr><tr><td>C32 AMG 4dr</td><td>null</td></tr><tr><td>Ram 1500 Regular Cab ST</td><td>null</td></tr><tr><td>Bonneville GXP 4dr</td><td>null</td></tr><tr><td>MPV ES</td><td>null</td></tr><tr><td>Focus ZX5 5dr</td><td>null</td></tr><tr><td>Regal LS 4dr</td><td>null</td></tr><tr><td>Corolla LE 4dr</td><td>null</td></tr><tr><td>911 GT2 2dr</td><td>null</td></tr><tr><td>LS V8 Ultimate 4dr</td><td>null</td></tr><tr><td>Silverado 1500 Regular Cab</td><td>null</td></tr><tr><td>Jetta GLI VR6 4dr</td><td>null</td></tr><tr><td>XC90 T6</td><td>null</td></tr><tr><td>Endeavor XLS</td><td>null</td></tr><tr><td>SL500 convertible 2dr</td><td>null</td></tr><tr><td>Impreza 2.5 RS 4dr</td><td>null</td></tr><tr><td>Land Cruiser</td><td>null</td></tr><tr><td>Crown Victoria 4dr</td><td>null</td></tr><tr><td>Frontier King Cab XE V6</td><td>null</td></tr><tr><td>Century Custom 4dr</td><td>null</td></tr><tr><td>XC70</td><td>null</td></tr><tr><td>A4 3.0 Quattro 4dr manual</td><td>null</td></tr><tr><td>Mustang GT Premium convertible 2dr</td><td>null</td></tr><tr><td>Tacoma</td><td>null</td></tr><tr><td>VUE</td><td>null</td></tr><tr><td>Galant ES 2.4L 4dr</td><td>null</td></tr><tr><td>Malibu LS 4dr</td><td>null</td></tr><tr><td>Cooper S</td><td>null</td></tr><tr><td>330xi 4dr</td><td>null</td></tr><tr><td>A6 3.0 Quattro 4dr</td><td>null</td></tr><tr><td>S60 T5 4dr</td><td>null</td></tr><tr><td>Forester X</td><td>null</td></tr><tr><td>Avalon XL 4dr</td><td>null</td></tr><tr><td>PT Cruiser Limited 4dr</td><td>null</td></tr><tr><td>Jetta GL</td><td>null</td></tr><tr><td>Grand Marquis LS Ultimate 4dr</td><td>null</td></tr><tr><td>M3 convertible 2dr</td><td>null</td></tr><tr><td>PT Cruiser GT 4dr</td><td>null</td></tr><tr><td>Echo 4dr</td><td>null</td></tr><tr><td>GS 430 4dr</td><td>null</td></tr><tr><td>New Beetle GLS 1.8T 2dr</td><td>null</td></tr><tr><td>Matrix XR</td><td>null</td></tr><tr><td>S430 4dr</td><td>null</td></tr><tr><td>M45 4dr</td><td>null</td></tr><tr><td>Explorer XLT V6</td><td>null</td></tr><tr><td>Taurus SES Duratec 4dr</td><td>null</td></tr><tr><td>Range Rover HSE</td><td>null</td></tr><tr><td>Maxima SL 4dr</td><td>null</td></tr><tr><td>Sunfire 1SA 2dr</td><td>null</td></tr><tr><td>Sentra 1.8 4dr</td><td>null</td></tr><tr><td>Impreza WRX STi 4dr</td><td>null</td></tr><tr><td>S4 Quattro 4dr</td><td>null</td></tr><tr><td>9-5 Aero</td><td>null</td></tr><tr><td>Passat W8 4MOTION 4dr</td><td>null</td></tr><tr><td>Park Avenue Ultra 4dr</td><td>null</td></tr><tr><td>Ascender S</td><td>null</td></tr><tr><td>Regal GS 4dr</td><td>null</td></tr><tr><td>E320 4dr</td><td>null</td></tr><tr><td>Sierra Extended Cab 1500</td><td>null</td></tr><tr><td>Montana EWB</td><td>null</td></tr><tr><td>A41.8T convertible 2dr</td><td>null</td></tr><tr><td>Accord LX V6 4dr</td><td>null</td></tr><tr><td>CTS VVT 4dr</td><td>null</td></tr><tr><td>Accent GL 4dr</td><td>null</td></tr><tr><td>E500 4dr</td><td>null</td></tr><tr><td>Ranger 2.3 XL Regular Cab</td><td>null</td></tr><tr><td>Focus SE 4dr</td><td>null</td></tr><tr><td>XL-7 EX</td><td>null</td></tr><tr><td>Tundra Regular Cab V6</td><td>null</td></tr><tr><td>745Li 4dr</td><td>null</td></tr><tr><td>Quest S</td><td>null</td></tr><tr><td>Forenza S 4dr</td><td>null</td></tr><tr><td>TT 3.2 coupe 2dr (convertible)</td><td>null</td></tr><tr><td>Accent GT 2dr hatch</td><td>null</td></tr><tr><td>A6 3.0 4dr</td><td>null</td></tr><tr><td>Spectra GSX 4dr hatch</td><td>null</td></tr><tr><td>Civic EX 4dr</td><td>null</td></tr><tr><td>Boxster S convertible 2dr</td><td>null</td></tr><tr><td>I35 4dr</td><td>null</td></tr><tr><td>Accord EX 2dr</td><td>null</td></tr><tr><td>F-150 Regular Cab XL</td><td>null</td></tr><tr><td>S60 2.5 4dr</td><td>null</td></tr><tr><td>Rendezvous CX</td><td>null</td></tr><tr><td>Crossfire 2dr</td><td>null</td></tr><tr><td>325Ci convertible 2dr</td><td>null</td></tr><tr><td>V40</td><td>null</td></tr><tr><td>GX 470</td><td>null</td></tr><tr><td>Accord EX V6 2dr</td><td>null</td></tr><tr><td>LS V6 Luxury 4dr</td><td>null</td></tr><tr><td>Altima SE 4dr</td><td>null</td></tr><tr><td>Taurus SE</td><td>null</td></tr><tr><td>C240</td><td>null</td></tr><tr><td>Grand Caravan SXT</td><td>null</td></tr><tr><td>Camry LE 4dr</td><td>null</td></tr><tr><td>Freelander SE</td><td>null</td></tr><tr><td>Civic Hybrid 4dr manual (gas/electric)</td><td>null</td></tr><tr><td>Vitara LX</td><td>null</td></tr><tr><td>Liberty Sport</td><td>null</td></tr><tr><td>Rodeo S</td><td>null</td></tr><tr><td>M3 coupe 2dr</td><td>null</td></tr><tr><td>Wrangler Sahara convertible 2dr</td><td>null</td></tr><tr><td>X3 3.0i</td><td>null</td></tr><tr><td>3.5 RL 4dr</td><td>null</td></tr><tr><td>SC 430 convertible 2dr</td><td>null</td></tr><tr><td>Deville 4dr</td><td>null</td></tr><tr><td>S80 T6 4dr</td><td>null</td></tr><tr><td>Corolla CE 4dr</td><td>null</td></tr><tr><td>S-Type 3.0 4dr</td><td>null</td></tr><tr><td>L300-2 4dr</td><td>null</td></tr></tbody></table></div>"
      ]
     },
     "metadata": {
      "application/vnd.databricks.v1+output": {
       "addedWidgets": {},
       "aggData": [],
       "aggError": "",
       "aggOverflow": false,
       "aggSchema": [],
       "aggSeriesLimitReached": false,
       "aggType": "",
       "arguments": {},
       "columnCustomDisplayInfos": {},
       "data": [
        [
         "Intrepid ES 4dr",
         null
        ],
        [
         "MDX",
         null
        ],
        [
         "TL 4dr",
         null
        ],
        [
         "MX-5 Miata convertible 2dr",
         null
        ],
        [
         "Envoy XUV SLE",
         null
        ],
        [
         "530i 4dr",
         null
        ],
        [
         "Spectra 4dr",
         null
        ],
        [
         "A8 L Quattro 4dr",
         null
        ],
        [
         "RX-8 4dr manual",
         null
        ],
        [
         "Elantra GT 4dr hatch",
         null
        ],
        [
         "300M Special Edition 4dr",
         null
        ],
        [
         "G35 Sport Coupe 2dr",
         null
        ],
        [
         "Town and Country LX",
         null
        ],
        [
         "Freestar SE",
         null
        ],
        [
         "Focus SVT 2dr",
         null
        ],
        [
         "Sebring 4dr",
         null
        ],
        [
         "Stratus SE 4dr",
         null
        ],
        [
         "Highlander V6",
         null
        ],
        [
         "Spectra GS 4dr hatch",
         null
        ],
        [
         "S500 4dr",
         null
        ],
        [
         "Impala LS 4dr",
         null
        ],
        [
         "Malibu LT 4dr",
         null
        ],
        [
         "A6 2.7 Turbo Quattro 4dr",
         null
        ],
        [
         "Pathfinder SE",
         null
        ],
        [
         "Phaeton 4dr",
         null
        ],
        [
         "LeSabre Limited 4dr",
         null
        ],
        [
         "Outback",
         null
        ],
        [
         "Z4 convertible 2.5i 2dr",
         null
        ],
        [
         "Lancer OZ Rally 4dr auto",
         null
        ],
        [
         "Mazda3 i 4dr",
         null
        ],
        [
         "Passat GLS 1.8T",
         null
        ],
        [
         "Camry LE V6 4dr",
         null
        ],
        [
         "Grand Am GT 2dr",
         null
        ],
        [
         "Impreza WRX 4dr",
         null
        ],
        [
         "Optima LX V6 4dr",
         null
        ],
        [
         "IS 300 4dr auto",
         null
        ],
        [
         "Santa Fe GLS",
         null
        ],
        [
         "Civic HX 2dr",
         null
        ],
        [
         "Mazda3 s 4dr",
         null
        ],
        [
         "RX-8 4dr automatic",
         null
        ],
        [
         "Monte Carlo LS 2dr",
         null
        ],
        [
         "E500",
         null
        ],
        [
         "Outback H6 4dr",
         null
        ],
        [
         "Deville DTS 4dr",
         null
        ],
        [
         "NSX coupe 2dr manual S",
         null
        ],
        [
         "RX 330",
         null
        ],
        [
         "Sable GS",
         null
        ],
        [
         "LS V8 Sport 4dr",
         null
        ],
        [
         "Element LX",
         null
        ],
        [
         "XK8 convertible 2dr",
         null
        ],
        [
         "Camry Solara SE V6 2dr",
         null
        ],
        [
         "S-Type R 4dr",
         null
        ],
        [
         "Amanti 4dr",
         null
        ],
        [
         "Cavalier 2dr",
         null
        ],
        [
         "Safari SLE",
         null
        ],
        [
         "A4 3.0 Quattro 4dr auto",
         null
        ],
        [
         "Sentra 1.8 S 4dr",
         null
        ],
        [
         "xB",
         null
        ],
        [
         "Montero XLS",
         null
        ],
        [
         "Focus ZTW",
         null
        ],
        [
         "Cayenne S",
         null
        ],
        [
         "Alero GLS 2dr",
         null
        ],
        [
         "Town Car Signature 4dr",
         null
        ],
        [
         "Town Car Ultimate 4dr",
         null
        ],
        [
         "Odyssey LX",
         null
        ],
        [
         "Sunfire 1SC 2dr",
         null
        ],
        [
         "Elantra GT 4dr",
         null
        ],
        [
         "Mazda6 i 4dr",
         null
        ],
        [
         "Camry Solara SLE V6 2dr",
         null
        ],
        [
         "X5 4.4i",
         null
        ],
        [
         "Venture LS",
         null
        ],
        [
         "XKR convertible 2dr",
         null
        ],
        [
         "Mustang 2dr (convertible)",
         null
        ],
        [
         "Sebring Touring 4dr",
         null
        ],
        [
         "Civic LX 4dr",
         null
        ],
        [
         "Focus LX 4dr",
         null
        ],
        [
         "Sebring convertible 2dr",
         null
        ],
        [
         "Dakota Club Cab",
         null
        ],
        [
         "Aeno S 4dr",
         null
        ],
        [
         "XLR convertible 2dr",
         null
        ],
        [
         "Murano SL",
         null
        ],
        [
         "Sable LS Premium 4dr",
         null
        ],
        [
         "IS 300 SportCross",
         null
        ],
        [
         "Expedition 4.6 XLT",
         null
        ],
        [
         "Aviator Ultimate",
         null
        ],
        [
         "Durango SLT",
         null
        ],
        [
         "Passat W8",
         null
        ],
        [
         null,
         null
        ],
        [
         "MR2 Spyder convertible 2dr",
         null
        ],
        [
         "S4 Avant Quattro",
         null
        ],
        [
         "Verona LX 4dr",
         null
        ],
        [
         "Focus ZX3 2dr hatch",
         null
        ],
        [
         "S60 R 4dr",
         null
        ],
        [
         "A4 1.8T 4dr",
         null
        ],
        [
         "Monterey Luxury",
         null
        ],
        [
         "C240 4dr",
         null
        ],
        [
         "330i 4dr",
         null
        ],
        [
         "Stratus SXT 4dr",
         null
        ],
        [
         "Town Car Ultimate L 4dr",
         null
        ],
        [
         "TrailBlazer LT",
         null
        ],
        [
         "XJR 4dr",
         null
        ],
        [
         "Tracker",
         null
        ],
        [
         "PT Cruiser 4dr",
         null
        ],
        [
         "Vibe",
         null
        ],
        [
         "CR-V LX",
         null
        ],
        [
         "3.5 RL w/Navigation 4dr",
         null
        ],
        [
         "Passat GLS 4dr",
         null
        ],
        [
         "C70 LPT convertible 2dr",
         null
        ],
        [
         "Outback H-6 VDC 4dr",
         null
        ],
        [
         "Tundra Access Cab V6 SR5",
         null
        ],
        [
         "911 Targa coupe 2dr",
         null
        ],
        [
         "Ion1 4dr",
         null
        ],
        [
         "525i 4dr",
         null
        ],
        [
         "FX35",
         null
        ],
        [
         "Dakota Regular Cab",
         null
        ],
        [
         "XKR coupe 2dr",
         null
        ],
        [
         "C320 Sport 4dr",
         null
        ],
        [
         "xA 4dr hatch",
         null
        ],
        [
         "CLK320 coupe 2dr (convertible)",
         null
        ],
        [
         "Crown Victoria LX 4dr",
         null
        ],
        [
         "C320 4dr",
         null
        ],
        [
         "C230 Sport 2dr",
         null
        ],
        [
         "911 Carrera convertible 2dr (coupe)",
         null
        ],
        [
         "G35 4dr",
         null
        ],
        [
         "Golf GLS 4dr",
         null
        ],
        [
         "Vanden Plas 4dr",
         null
        ],
        [
         "Cooper",
         null
        ],
        [
         "Sebring Limited convertible 2dr",
         null
        ],
        [
         "325xi 4dr",
         null
        ],
        [
         "Echo 2dr auto",
         null
        ],
        [
         "Accent 2dr hatch",
         null
        ],
        [
         "Intrepid SE 4dr",
         null
        ],
        [
         "Forenza EX 4dr",
         null
        ],
        [
         "Caravan SE",
         null
        ],
        [
         "RS 6 4dr",
         null
        ],
        [
         "Pilot LX",
         null
        ],
        [
         "XG350 L 4dr",
         null
        ],
        [
         "IS 300 4dr manual",
         null
        ],
        [
         "Outback Limited Sedan 4dr",
         null
        ],
        [
         "Concorde LX 4dr",
         null
        ],
        [
         "A4 3.0 Quattro convertible 2dr",
         null
        ],
        [
         "SRX V8",
         null
        ],
        [
         "325Ci 2dr",
         null
        ],
        [
         "Lancer ES 4dr",
         null
        ],
        [
         "lon2 4dr",
         null
        ],
        [
         "Echo 2dr manual",
         null
        ],
        [
         "GTI 1.8T 2dr hatch",
         null
        ],
        [
         "Altima S 4dr",
         null
        ],
        [
         "Cavalier LS 2dr",
         null
        ],
        [
         "9-3 Aero convertible 2dr",
         null
        ],
        [
         "Sedona LX",
         null
        ],
        [
         "Q45 Luxury 4dr",
         null
        ],
        [
         "Aveo LS 4dr hatch",
         null
        ],
        [
         "Insight 2dr (gas/electric)",
         null
        ],
        [
         "Seville SLS 4dr",
         null
        ],
        [
         "LeSabre Custom 4dr",
         null
        ],
        [
         "Sonata LX 4dr",
         null
        ],
        [
         "Aztekt",
         null
        ],
        [
         "LS 430 4dr",
         null
        ],
        [
         "9-5 Aero 4dr",
         null
        ],
        [
         "MX-5 Miata LS convertible 2dr",
         null
        ],
        [
         "Impala SS 4dr",
         null
        ],
        [
         "Galant GTS 4dr",
         null
        ],
        [
         "Elantra GLS 4dr",
         null
        ],
        [
         "Outlander LS",
         null
        ],
        [
         "X-Type 2.5 4dr",
         null
        ],
        [
         "Grand Prix GT1 4dr",
         null
        ],
        [
         "Legacy GT 4dr",
         null
        ],
        [
         "S40 4dr",
         null
        ],
        [
         "X-Type 3.0 4dr",
         null
        ],
        [
         "Crown Victoria LX Sport 4dr",
         null
        ],
        [
         "Neon SE 4dr",
         null
        ],
        [
         "Grand Marquis LS Premium 4dr",
         null
        ],
        [
         "325i 4dr",
         null
        ],
        [
         "Lancer Evolution 4dr",
         null
        ],
        [
         "FX45",
         null
        ],
        [
         "XJ8 4dr",
         null
        ],
        [
         "Optima LX 4dr",
         null
        ],
        [
         "Canyon Z85 SL Regular Cab",
         null
        ],
        [
         "Town and Country Limited",
         null
        ],
        [
         "Avalon XLS 4dr",
         null
        ],
        [
         "TSX 4dr",
         null
        ],
        [
         "A6 3.0 Avant Quattro",
         null
        ],
        [
         "Park Avenue 4dr",
         null
        ],
        [
         "9-3 Arc convertible 2dr",
         null
        ],
        [
         "Alero GX 2dr",
         null
        ],
        [
         "S80 2.9 4dr",
         null
        ],
        [
         "330Ci 2dr",
         null
        ],
        [
         "Sequoia SR5",
         null
        ],
        [
         "Boxster convertible 2dr",
         null
        ],
        [
         "A6 4.2 Quattro 4dr",
         null
        ],
        [
         "B4000 SE Cab Plus",
         null
        ],
        [
         "350Z coupe 2dr",
         null
        ],
        [
         "Sonoma Crew Cab",
         null
        ],
        [
         "545iA 4dr",
         null
        ],
        [
         "745i 4dr",
         null
        ],
        [
         "L300 2",
         null
        ],
        [
         "A4 3.0 convertible 2dr",
         null
        ],
        [
         "Jetta GLS TDI 4dr",
         null
        ],
        [
         "Sonata GLS 4dr",
         null
        ],
        [
         "lon2 quad coupe 2dr",
         null
        ],
        [
         "Eclipse Spyder GT convertible 2dr",
         null
        ],
        [
         "ML500",
         null
        ],
        [
         "C70 HPT convertible 2dr",
         null
        ],
        [
         "Camry XLE V6 4dr",
         null
        ],
        [
         "Aerio LX 4dr",
         null
        ],
        [
         "9-3 Aero 4dr",
         null
        ],
        [
         "Rio Cinco",
         null
        ],
        [
         "Sentra SE-R 4dr",
         null
        ],
        [
         "CLK500 coupe 2dr (convertible)",
         null
        ],
        [
         "Quest SE",
         null
        ],
        [
         "Maxima SE 4dr",
         null
        ],
        [
         "lon3 quad coupe 2dr",
         null
        ],
        [
         "XK8 coupe 2dr",
         null
        ],
        [
         "Thunderbird Deluxe convert w/hardtop 2d",
         null
        ],
        [
         "Prius 4dr (gas/electric)",
         null
        ],
        [
         "E320",
         null
        ],
        [
         "Passat GLX V6 4MOTION 4dr",
         null
        ],
        [
         "Grand Cherokee Laredo",
         null
        ],
        [
         "Odyssey EX",
         null
        ],
        [
         "G500",
         null
        ],
        [
         "Silhouette GL",
         null
        ],
        [
         "Tiburon GT V6 2dr",
         null
        ],
        [
         "Tribute DX 2.0",
         null
        ],
        [
         "Grand Marquis GS 4dr",
         null
        ],
        [
         "Lancer Sportback LS",
         null
        ],
        [
         "Pacifica",
         null
        ],
        [
         "S-Type 4.2 4dr",
         null
        ],
        [
         "Discovery SE",
         null
        ],
        [
         "9-5 Arc 4dr",
         null
        ],
        [
         "Astro",
         null
        ],
        [
         "Montana",
         null
        ],
        [
         "Z4 convertible 3.0i 2dr",
         null
        ],
        [
         "RSX Type S 2dr",
         null
        ],
        [
         "Escape XLS",
         null
        ],
        [
         "Cavalier 4dr",
         null
        ],
        [
         "Neon SXT 4dr",
         null
        ],
        [
         "SLK230 convertible 2dr",
         null
        ],
        [
         "B2300 SX Regular Cab",
         null
        ],
        [
         "GS 300 4dr",
         null
        ],
        [
         "ES 330 4dr",
         null
        ],
        [
         "LS V6 Premium 4dr",
         null
        ],
        [
         "Corolla S 4dr",
         null
        ],
        [
         "Sienna XLE Limited",
         null
        ],
        [
         "LX 470",
         null
        ],
        [
         "350Z Enthusiast convertible 2dr",
         null
        ],
        [
         "Lancer LS 4dr",
         null
        ],
        [
         "Celica GT-S 2dr",
         null
        ],
        [
         "330Ci convertible 2dr",
         null
        ],
        [
         "Colorado Z85",
         null
        ],
        [
         "300M 4dr",
         null
        ],
        [
         "New Beetle GLS convertible 2dr",
         null
        ],
        [
         "lon3 4dr",
         null
        ],
        [
         "A4 3.0 4dr",
         null
        ],
        [
         "911 Carrera 4S coupe 2dr (convert)",
         null
        ],
        [
         "TT 1.8 Quattro 2dr (convertible)",
         null
        ],
        [
         "9-3 Arc Sport 4dr",
         null
        ],
        [
         "Marauder 4dr",
         null
        ],
        [
         "Grand Prix GT2 4dr",
         null
        ],
        [
         "SLK32 AMG 2dr",
         null
        ],
        [
         "Baja",
         null
        ],
        [
         "Rio 4dr manual",
         null
        ],
        [
         "325xi Sport",
         null
        ],
        [
         "CL500 2dr",
         null
        ],
        [
         "Sorento LX",
         null
        ],
        [
         "Sable GS 4dr",
         null
        ],
        [
         "Monte Carlo SS 2dr",
         null
        ],
        [
         "Concorde LXi 4dr",
         null
        ],
        [
         "Impala 4dr",
         null
        ],
        [
         "Xterra XE V6",
         null
        ],
        [
         "Malibu 4dr",
         null
        ],
        [
         "Rio 4dr auto",
         null
        ],
        [
         "RAV4",
         null
        ],
        [
         "Diamante LS 4dr",
         null
        ],
        [
         "4Runner SR5 V6",
         null
        ],
        [
         "Sienna CE",
         null
        ],
        [
         "Malibu Maxx LS",
         null
        ],
        [
         "Camry Solara SE 2dr",
         null
        ],
        [
         "Eclipse GTS 2dr",
         null
        ],
        [
         "S2000 convertible 2dr",
         null
        ],
        [
         "Yukon 1500 SLE",
         null
        ],
        [
         "Accord LX 2dr",
         null
        ],
        [
         "Aveo 4dr",
         null
        ],
        [
         "Mountaineer",
         null
        ],
        [
         "Aerio SX",
         null
        ],
        [
         "Civic DX 2dr",
         null
        ],
        [
         "Rainier",
         null
        ],
        [
         "Taurus LX 4dr",
         null
        ],
        [
         "Legacy L 4dr",
         null
        ],
        [
         "TT 1.8 convertible 2dr (coupe)",
         null
        ],
        [
         "S80 2.5T 4dr",
         null
        ],
        [
         "XG350 4dr",
         null
        ],
        [
         "Touareg V6",
         null
        ],
        [
         "Civic Si 2dr hatch",
         null
        ],
        [
         "C32 AMG 4dr",
         null
        ],
        [
         "Ram 1500 Regular Cab ST",
         null
        ],
        [
         "Bonneville GXP 4dr",
         null
        ],
        [
         "MPV ES",
         null
        ],
        [
         "Focus ZX5 5dr",
         null
        ],
        [
         "Regal LS 4dr",
         null
        ],
        [
         "Corolla LE 4dr",
         null
        ],
        [
         "911 GT2 2dr",
         null
        ],
        [
         "LS V8 Ultimate 4dr",
         null
        ],
        [
         "Silverado 1500 Regular Cab",
         null
        ],
        [
         "Jetta GLI VR6 4dr",
         null
        ],
        [
         "XC90 T6",
         null
        ],
        [
         "Endeavor XLS",
         null
        ],
        [
         "SL500 convertible 2dr",
         null
        ],
        [
         "Impreza 2.5 RS 4dr",
         null
        ],
        [
         "Land Cruiser",
         null
        ],
        [
         "Crown Victoria 4dr",
         null
        ],
        [
         "Frontier King Cab XE V6",
         null
        ],
        [
         "Century Custom 4dr",
         null
        ],
        [
         "XC70",
         null
        ],
        [
         "A4 3.0 Quattro 4dr manual",
         null
        ],
        [
         "Mustang GT Premium convertible 2dr",
         null
        ],
        [
         "Tacoma",
         null
        ],
        [
         "VUE",
         null
        ],
        [
         "Galant ES 2.4L 4dr",
         null
        ],
        [
         "Malibu LS 4dr",
         null
        ],
        [
         "Cooper S",
         null
        ],
        [
         "330xi 4dr",
         null
        ],
        [
         "A6 3.0 Quattro 4dr",
         null
        ],
        [
         "S60 T5 4dr",
         null
        ],
        [
         "Forester X",
         null
        ],
        [
         "Avalon XL 4dr",
         null
        ],
        [
         "PT Cruiser Limited 4dr",
         null
        ],
        [
         "Jetta GL",
         null
        ],
        [
         "Grand Marquis LS Ultimate 4dr",
         null
        ],
        [
         "M3 convertible 2dr",
         null
        ],
        [
         "PT Cruiser GT 4dr",
         null
        ],
        [
         "Echo 4dr",
         null
        ],
        [
         "GS 430 4dr",
         null
        ],
        [
         "New Beetle GLS 1.8T 2dr",
         null
        ],
        [
         "Matrix XR",
         null
        ],
        [
         "S430 4dr",
         null
        ],
        [
         "M45 4dr",
         null
        ],
        [
         "Explorer XLT V6",
         null
        ],
        [
         "Taurus SES Duratec 4dr",
         null
        ],
        [
         "Range Rover HSE",
         null
        ],
        [
         "Maxima SL 4dr",
         null
        ],
        [
         "Sunfire 1SA 2dr",
         null
        ],
        [
         "Sentra 1.8 4dr",
         null
        ],
        [
         "Impreza WRX STi 4dr",
         null
        ],
        [
         "S4 Quattro 4dr",
         null
        ],
        [
         "9-5 Aero",
         null
        ],
        [
         "Passat W8 4MOTION 4dr",
         null
        ],
        [
         "Park Avenue Ultra 4dr",
         null
        ],
        [
         "Ascender S",
         null
        ],
        [
         "Regal GS 4dr",
         null
        ],
        [
         "E320 4dr",
         null
        ],
        [
         "Sierra Extended Cab 1500",
         null
        ],
        [
         "Montana EWB",
         null
        ],
        [
         "A41.8T convertible 2dr",
         null
        ],
        [
         "Accord LX V6 4dr",
         null
        ],
        [
         "CTS VVT 4dr",
         null
        ],
        [
         "Accent GL 4dr",
         null
        ],
        [
         "E500 4dr",
         null
        ],
        [
         "Ranger 2.3 XL Regular Cab",
         null
        ],
        [
         "Focus SE 4dr",
         null
        ],
        [
         "XL-7 EX",
         null
        ],
        [
         "Tundra Regular Cab V6",
         null
        ],
        [
         "745Li 4dr",
         null
        ],
        [
         "Quest S",
         null
        ],
        [
         "Forenza S 4dr",
         null
        ],
        [
         "TT 3.2 coupe 2dr (convertible)",
         null
        ],
        [
         "Accent GT 2dr hatch",
         null
        ],
        [
         "A6 3.0 4dr",
         null
        ],
        [
         "Spectra GSX 4dr hatch",
         null
        ],
        [
         "Civic EX 4dr",
         null
        ],
        [
         "Boxster S convertible 2dr",
         null
        ],
        [
         "I35 4dr",
         null
        ],
        [
         "Accord EX 2dr",
         null
        ],
        [
         "F-150 Regular Cab XL",
         null
        ],
        [
         "S60 2.5 4dr",
         null
        ],
        [
         "Rendezvous CX",
         null
        ],
        [
         "Crossfire 2dr",
         null
        ],
        [
         "325Ci convertible 2dr",
         null
        ],
        [
         "V40",
         null
        ],
        [
         "GX 470",
         null
        ],
        [
         "Accord EX V6 2dr",
         null
        ],
        [
         "LS V6 Luxury 4dr",
         null
        ],
        [
         "Altima SE 4dr",
         null
        ],
        [
         "Taurus SE",
         null
        ],
        [
         "C240",
         null
        ],
        [
         "Grand Caravan SXT",
         null
        ],
        [
         "Camry LE 4dr",
         null
        ],
        [
         "Freelander SE",
         null
        ],
        [
         "Civic Hybrid 4dr manual (gas/electric)",
         null
        ],
        [
         "Vitara LX",
         null
        ],
        [
         "Liberty Sport",
         null
        ],
        [
         "Rodeo S",
         null
        ],
        [
         "M3 coupe 2dr",
         null
        ],
        [
         "Wrangler Sahara convertible 2dr",
         null
        ],
        [
         "X3 3.0i",
         null
        ],
        [
         "3.5 RL 4dr",
         null
        ],
        [
         "SC 430 convertible 2dr",
         null
        ],
        [
         "Deville 4dr",
         null
        ],
        [
         "S80 T6 4dr",
         null
        ],
        [
         "Corolla CE 4dr",
         null
        ],
        [
         "S-Type 3.0 4dr",
         null
        ],
        [
         "L300-2 4dr",
         null
        ]
       ],
       "datasetInfos": [],
       "dbfsResultPath": null,
       "isJsonSchema": true,
       "metadata": {},
       "overflow": false,
       "plotOptions": {
        "customPlotOptions": {},
        "displayType": "table",
        "pivotAggregation": null,
        "pivotColumns": null,
        "xColumns": null,
        "yColumns": null
       },
       "removedWidgets": [],
       "schema": [
        {
         "metadata": "{}",
         "name": "Model",
         "type": "\"string\""
        },
        {
         "metadata": "{}",
         "name": "dim_Model_key",
         "type": "\"integer\""
        }
       ],
       "type": "table"
      }
     },
     "output_type": "display_data"
    }
   ],
   "source": [
    "df_filter.display()"
   ]
  },
  {
   "cell_type": "markdown",
   "metadata": {
    "application/vnd.databricks.v1+cell": {
     "cellMetadata": {
      "byteLimit": 2048000,
      "rowLimit": 10000
     },
     "inputWidgets": {},
     "nuid": "79dcbeec-6b02-497d-968c-6ba0970f9da4",
     "showTitle": false,
     "tableResultSettingsMap": {},
     "title": ""
    }
   },
   "source": [
    "df_filter _old"
   ]
  },
  {
   "cell_type": "code",
   "execution_count": 0,
   "metadata": {
    "application/vnd.databricks.v1+cell": {
     "cellMetadata": {
      "byteLimit": 2048000,
      "rowLimit": 10000
     },
     "inputWidgets": {},
     "nuid": "99a57b14-4389-4568-bbbf-2b4d014c9e61",
     "showTitle": false,
     "tableResultSettingsMap": {},
     "title": ""
    }
   },
   "outputs": [],
   "source": [
    "df_filter_old=df_filter.filter(df_filter.dim_Model_key.isNotNull())"
   ]
  },
  {
   "cell_type": "code",
   "execution_count": 0,
   "metadata": {
    "application/vnd.databricks.v1+cell": {
     "cellMetadata": {
      "byteLimit": 2048000,
      "rowLimit": 10000
     },
     "inputWidgets": {},
     "nuid": "742d4135-5e2e-41fb-b50f-75d046fec366",
     "showTitle": false,
     "tableResultSettingsMap": {},
     "title": ""
    }
   },
   "outputs": [
    {
     "output_type": "display_data",
     "data": {
      "text/html": [
       "<style scoped>\n",
       "  .table-result-container {\n",
       "    max-height: 300px;\n",
       "    overflow: auto;\n",
       "  }\n",
       "  table, th, td {\n",
       "    border: 1px solid black;\n",
       "    border-collapse: collapse;\n",
       "  }\n",
       "  th, td {\n",
       "    padding: 5px;\n",
       "  }\n",
       "  th {\n",
       "    text-align: left;\n",
       "  }\n",
       "</style><div class='table-result-container'><table class='table-result'><thead style='background-color: white'><tr><th>Model</th><th>dim_Model_key</th></tr></thead><tbody></tbody></table></div>"
      ]
     },
     "metadata": {
      "application/vnd.databricks.v1+output": {
       "addedWidgets": {},
       "aggData": [],
       "aggError": "",
       "aggOverflow": false,
       "aggSchema": [],
       "aggSeriesLimitReached": false,
       "aggType": "",
       "arguments": {},
       "columnCustomDisplayInfos": {},
       "data": [],
       "datasetInfos": [],
       "dbfsResultPath": null,
       "isJsonSchema": true,
       "metadata": {},
       "overflow": false,
       "plotOptions": {
        "customPlotOptions": {},
        "displayType": "table",
        "pivotAggregation": null,
        "pivotColumns": null,
        "xColumns": null,
        "yColumns": null
       },
       "removedWidgets": [],
       "schema": [
        {
         "metadata": "{}",
         "name": "Model",
         "type": "\"string\""
        },
        {
         "metadata": "{}",
         "name": "dim_Model_key",
         "type": "\"integer\""
        }
       ],
       "type": "table"
      }
     },
     "output_type": "display_data"
    }
   ],
   "source": [
    "df_filter_old.display()"
   ]
  },
  {
   "cell_type": "code",
   "execution_count": 0,
   "metadata": {
    "application/vnd.databricks.v1+cell": {
     "cellMetadata": {
      "byteLimit": 2048000,
      "rowLimit": 10000
     },
     "inputWidgets": {},
     "nuid": "4a76f90a-321a-4bea-a7d5-d0debb260ac1",
     "showTitle": false,
     "tableResultSettingsMap": {},
     "title": ""
    }
   },
   "outputs": [],
   "source": [
    "df_filter_new=df_filter.filter(df_filter.dim_Model_key.isNull())"
   ]
  },
  {
   "cell_type": "markdown",
   "metadata": {
    "application/vnd.databricks.v1+cell": {
     "cellMetadata": {
      "byteLimit": 2048000,
      "rowLimit": 10000
     },
     "inputWidgets": {},
     "nuid": "308cda4d-b5dd-45da-9fdb-a898aa855561",
     "showTitle": false,
     "tableResultSettingsMap": {},
     "title": ""
    }
   },
   "source": [
    "Craete Suurogate Key"
   ]
  },
  {
   "cell_type": "markdown",
   "metadata": {
    "application/vnd.databricks.v1+cell": {
     "cellMetadata": {
      "byteLimit": 2048000,
      "rowLimit": 10000
     },
     "inputWidgets": {},
     "nuid": "8dfc8eaf-3a08-4e9e-9177-7cb86bd1afe7",
     "showTitle": false,
     "tableResultSettingsMap": {},
     "title": ""
    }
   },
   "source": [
    "FETCH the max suurogate key from existing table"
   ]
  },
  {
   "cell_type": "code",
   "execution_count": 0,
   "metadata": {
    "application/vnd.databricks.v1+cell": {
     "cellMetadata": {
      "byteLimit": 2048000,
      "rowLimit": 10000
     },
     "inputWidgets": {},
     "nuid": "2e4be546-c32f-4014-955b-0aa2309e5f44",
     "showTitle": false,
     "tableResultSettingsMap": {},
     "title": ""
    }
   },
   "outputs": [],
   "source": [
    "if incremental_flag=='0':\n",
    "\n",
    "    max_value=0\n",
    "else:\n",
    "    max_value_df=spark.sql(\"\"\"SELECT MAX(dim_Model_key) FROM cars.gold.dim_Model\"\"\")\n",
    "    max_value=max_value_df.collect()[0][0]\n"
   ]
  },
  {
   "cell_type": "markdown",
   "metadata": {
    "application/vnd.databricks.v1+cell": {
     "cellMetadata": {
      "byteLimit": 2048000,
      "rowLimit": 10000
     },
     "inputWidgets": {},
     "nuid": "0b0aa62a-f58f-4dd3-9a75-64c8dd3d6a8e",
     "showTitle": false,
     "tableResultSettingsMap": {},
     "title": ""
    }
   },
   "source": [
    "\n",
    "Create Surrogate column and add the max surrogate key "
   ]
  },
  {
   "cell_type": "code",
   "execution_count": 0,
   "metadata": {
    "application/vnd.databricks.v1+cell": {
     "cellMetadata": {
      "byteLimit": 2048000,
      "rowLimit": 10000
     },
     "inputWidgets": {},
     "nuid": "1c7bbafc-143e-40f1-8385-918446f0a1d5",
     "showTitle": false,
     "tableResultSettingsMap": {},
     "title": ""
    }
   },
   "outputs": [],
   "source": [
    "from pyspark.sql import functions as F\n"
   ]
  },
  {
   "cell_type": "code",
   "execution_count": 0,
   "metadata": {
    "application/vnd.databricks.v1+cell": {
     "cellMetadata": {
      "byteLimit": 2048000,
      "rowLimit": 10000
     },
     "inputWidgets": {},
     "nuid": "503b69a4-8c56-4f49-82a0-ace604f77e9f",
     "showTitle": false,
     "tableResultSettingsMap": {},
     "title": ""
    }
   },
   "outputs": [],
   "source": [
    "df_filter_new=df_filter_new.withColumn('dim_Model_key',max_value+F.monotonically_increasing_id())"
   ]
  },
  {
   "cell_type": "code",
   "execution_count": 0,
   "metadata": {
    "application/vnd.databricks.v1+cell": {
     "cellMetadata": {
      "byteLimit": 2048000,
      "rowLimit": 10000
     },
     "inputWidgets": {},
     "nuid": "66602902-00fb-4d6d-9881-c7359b9add24",
     "showTitle": false,
     "tableResultSettingsMap": {},
     "title": ""
    }
   },
   "outputs": [],
   "source": [
    "df_filter_new.createOrReplaceTempView('df_filter_new')"
   ]
  },
  {
   "cell_type": "code",
   "execution_count": 0,
   "metadata": {
    "application/vnd.databricks.v1+cell": {
     "cellMetadata": {
      "byteLimit": 2048000,
      "rowLimit": 10000
     },
     "inputWidgets": {},
     "nuid": "82c37ad0-bae4-4f78-ac93-0942456543c8",
     "showTitle": false,
     "tableResultSettingsMap": {},
     "title": ""
    }
   },
   "outputs": [
    {
     "output_type": "display_data",
     "data": {
      "text/html": [
       "<style scoped>\n",
       "  .table-result-container {\n",
       "    max-height: 300px;\n",
       "    overflow: auto;\n",
       "  }\n",
       "  table, th, td {\n",
       "    border: 1px solid black;\n",
       "    border-collapse: collapse;\n",
       "  }\n",
       "  th, td {\n",
       "    padding: 5px;\n",
       "  }\n",
       "  th {\n",
       "    text-align: left;\n",
       "  }\n",
       "</style><div class='table-result-container'><table class='table-result'><thead style='background-color: white'><tr><th>Model</th><th>dim_Model_key</th></tr></thead><tbody><tr><td>Intrepid ES 4dr</td><td>0</td></tr><tr><td>MDX</td><td>1</td></tr><tr><td>TL 4dr</td><td>2</td></tr><tr><td>MX-5 Miata convertible 2dr</td><td>3</td></tr><tr><td>Envoy XUV SLE</td><td>4</td></tr><tr><td>530i 4dr</td><td>5</td></tr><tr><td>Spectra 4dr</td><td>6</td></tr><tr><td>A8 L Quattro 4dr</td><td>7</td></tr><tr><td>RX-8 4dr manual</td><td>8</td></tr><tr><td>Elantra GT 4dr hatch</td><td>9</td></tr><tr><td>300M Special Edition 4dr</td><td>10</td></tr><tr><td>G35 Sport Coupe 2dr</td><td>11</td></tr><tr><td>Town and Country LX</td><td>12</td></tr><tr><td>Freestar SE</td><td>13</td></tr><tr><td>Focus SVT 2dr</td><td>14</td></tr><tr><td>Sebring 4dr</td><td>15</td></tr><tr><td>Stratus SE 4dr</td><td>16</td></tr><tr><td>Highlander V6</td><td>17</td></tr><tr><td>Spectra GS 4dr hatch</td><td>18</td></tr><tr><td>S500 4dr</td><td>19</td></tr><tr><td>Impala LS 4dr</td><td>20</td></tr><tr><td>Malibu LT 4dr</td><td>21</td></tr><tr><td>A6 2.7 Turbo Quattro 4dr</td><td>22</td></tr><tr><td>Pathfinder SE</td><td>23</td></tr><tr><td>Phaeton 4dr</td><td>24</td></tr><tr><td>LeSabre Limited 4dr</td><td>25</td></tr><tr><td>Outback</td><td>26</td></tr><tr><td>Z4 convertible 2.5i 2dr</td><td>27</td></tr><tr><td>Lancer OZ Rally 4dr auto</td><td>28</td></tr><tr><td>Mazda3 i 4dr</td><td>29</td></tr><tr><td>Passat GLS 1.8T</td><td>30</td></tr><tr><td>Camry LE V6 4dr</td><td>31</td></tr><tr><td>Grand Am GT 2dr</td><td>32</td></tr><tr><td>Impreza WRX 4dr</td><td>33</td></tr><tr><td>Optima LX V6 4dr</td><td>34</td></tr><tr><td>IS 300 4dr auto</td><td>35</td></tr><tr><td>Santa Fe GLS</td><td>36</td></tr><tr><td>Civic HX 2dr</td><td>37</td></tr><tr><td>Mazda3 s 4dr</td><td>38</td></tr><tr><td>RX-8 4dr automatic</td><td>39</td></tr><tr><td>Monte Carlo LS 2dr</td><td>40</td></tr><tr><td>E500</td><td>41</td></tr><tr><td>Outback H6 4dr</td><td>42</td></tr><tr><td>Deville DTS 4dr</td><td>43</td></tr><tr><td>NSX coupe 2dr manual S</td><td>44</td></tr><tr><td>RX 330</td><td>45</td></tr><tr><td>Sable GS</td><td>46</td></tr><tr><td>LS V8 Sport 4dr</td><td>47</td></tr><tr><td>Element LX</td><td>48</td></tr><tr><td>XK8 convertible 2dr</td><td>49</td></tr><tr><td>Camry Solara SE V6 2dr</td><td>50</td></tr><tr><td>S-Type R 4dr</td><td>51</td></tr><tr><td>Amanti 4dr</td><td>52</td></tr><tr><td>Cavalier 2dr</td><td>53</td></tr><tr><td>Safari SLE</td><td>54</td></tr><tr><td>A4 3.0 Quattro 4dr auto</td><td>55</td></tr><tr><td>Sentra 1.8 S 4dr</td><td>56</td></tr><tr><td>xB</td><td>57</td></tr><tr><td>Montero XLS</td><td>58</td></tr><tr><td>Focus ZTW</td><td>59</td></tr><tr><td>Cayenne S</td><td>60</td></tr><tr><td>Alero GLS 2dr</td><td>61</td></tr><tr><td>Town Car Signature 4dr</td><td>62</td></tr><tr><td>Town Car Ultimate 4dr</td><td>63</td></tr><tr><td>Odyssey LX</td><td>64</td></tr><tr><td>Sunfire 1SC 2dr</td><td>65</td></tr><tr><td>Elantra GT 4dr</td><td>66</td></tr><tr><td>Mazda6 i 4dr</td><td>67</td></tr><tr><td>Camry Solara SLE V6 2dr</td><td>68</td></tr><tr><td>X5 4.4i</td><td>69</td></tr><tr><td>Venture LS</td><td>70</td></tr><tr><td>XKR convertible 2dr</td><td>71</td></tr><tr><td>Mustang 2dr (convertible)</td><td>72</td></tr><tr><td>Sebring Touring 4dr</td><td>73</td></tr><tr><td>Civic LX 4dr</td><td>74</td></tr><tr><td>Focus LX 4dr</td><td>75</td></tr><tr><td>Sebring convertible 2dr</td><td>76</td></tr><tr><td>Dakota Club Cab</td><td>77</td></tr><tr><td>Aeno S 4dr</td><td>78</td></tr><tr><td>XLR convertible 2dr</td><td>79</td></tr><tr><td>Murano SL</td><td>80</td></tr><tr><td>Sable LS Premium 4dr</td><td>81</td></tr><tr><td>IS 300 SportCross</td><td>82</td></tr><tr><td>Expedition 4.6 XLT</td><td>83</td></tr><tr><td>Aviator Ultimate</td><td>84</td></tr><tr><td>Durango SLT</td><td>85</td></tr><tr><td>Passat W8</td><td>86</td></tr><tr><td>null</td><td>87</td></tr><tr><td>MR2 Spyder convertible 2dr</td><td>88</td></tr><tr><td>S4 Avant Quattro</td><td>89</td></tr><tr><td>Verona LX 4dr</td><td>90</td></tr><tr><td>Focus ZX3 2dr hatch</td><td>91</td></tr><tr><td>S60 R 4dr</td><td>92</td></tr><tr><td>A4 1.8T 4dr</td><td>93</td></tr><tr><td>Monterey Luxury</td><td>94</td></tr><tr><td>C240 4dr</td><td>95</td></tr><tr><td>330i 4dr</td><td>96</td></tr><tr><td>Stratus SXT 4dr</td><td>97</td></tr><tr><td>Town Car Ultimate L 4dr</td><td>98</td></tr><tr><td>TrailBlazer LT</td><td>99</td></tr><tr><td>XJR 4dr</td><td>100</td></tr><tr><td>Tracker</td><td>101</td></tr><tr><td>PT Cruiser 4dr</td><td>102</td></tr><tr><td>Vibe</td><td>103</td></tr><tr><td>CR-V LX</td><td>104</td></tr><tr><td>3.5 RL w/Navigation 4dr</td><td>105</td></tr><tr><td>Passat GLS 4dr</td><td>106</td></tr><tr><td>C70 LPT convertible 2dr</td><td>107</td></tr><tr><td>Outback H-6 VDC 4dr</td><td>108</td></tr><tr><td>Tundra Access Cab V6 SR5</td><td>109</td></tr><tr><td>911 Targa coupe 2dr</td><td>110</td></tr><tr><td>Ion1 4dr</td><td>111</td></tr><tr><td>525i 4dr</td><td>112</td></tr><tr><td>FX35</td><td>113</td></tr><tr><td>Dakota Regular Cab</td><td>114</td></tr><tr><td>XKR coupe 2dr</td><td>115</td></tr><tr><td>C320 Sport 4dr</td><td>116</td></tr><tr><td>xA 4dr hatch</td><td>117</td></tr><tr><td>CLK320 coupe 2dr (convertible)</td><td>118</td></tr><tr><td>Crown Victoria LX 4dr</td><td>119</td></tr><tr><td>C320 4dr</td><td>120</td></tr><tr><td>C230 Sport 2dr</td><td>121</td></tr><tr><td>911 Carrera convertible 2dr (coupe)</td><td>122</td></tr><tr><td>G35 4dr</td><td>123</td></tr><tr><td>Golf GLS 4dr</td><td>124</td></tr><tr><td>Vanden Plas 4dr</td><td>125</td></tr><tr><td>Cooper</td><td>126</td></tr><tr><td>Sebring Limited convertible 2dr</td><td>127</td></tr><tr><td>325xi 4dr</td><td>128</td></tr><tr><td>Echo 2dr auto</td><td>129</td></tr><tr><td>Accent 2dr hatch</td><td>130</td></tr><tr><td>Intrepid SE 4dr</td><td>131</td></tr><tr><td>Forenza EX 4dr</td><td>132</td></tr><tr><td>Caravan SE</td><td>133</td></tr><tr><td>RS 6 4dr</td><td>134</td></tr><tr><td>Pilot LX</td><td>135</td></tr><tr><td>XG350 L 4dr</td><td>136</td></tr><tr><td>IS 300 4dr manual</td><td>137</td></tr><tr><td>Outback Limited Sedan 4dr</td><td>138</td></tr><tr><td>Concorde LX 4dr</td><td>139</td></tr><tr><td>A4 3.0 Quattro convertible 2dr</td><td>140</td></tr><tr><td>SRX V8</td><td>141</td></tr><tr><td>325Ci 2dr</td><td>142</td></tr><tr><td>Lancer ES 4dr</td><td>143</td></tr><tr><td>lon2 4dr</td><td>144</td></tr><tr><td>Echo 2dr manual</td><td>145</td></tr><tr><td>GTI 1.8T 2dr hatch</td><td>146</td></tr><tr><td>Altima S 4dr</td><td>147</td></tr><tr><td>Cavalier LS 2dr</td><td>148</td></tr><tr><td>9-3 Aero convertible 2dr</td><td>149</td></tr><tr><td>Sedona LX</td><td>150</td></tr><tr><td>Q45 Luxury 4dr</td><td>151</td></tr><tr><td>Aveo LS 4dr hatch</td><td>152</td></tr><tr><td>Insight 2dr (gas/electric)</td><td>153</td></tr><tr><td>Seville SLS 4dr</td><td>154</td></tr><tr><td>LeSabre Custom 4dr</td><td>155</td></tr><tr><td>Sonata LX 4dr</td><td>156</td></tr><tr><td>Aztekt</td><td>157</td></tr><tr><td>LS 430 4dr</td><td>158</td></tr><tr><td>9-5 Aero 4dr</td><td>159</td></tr><tr><td>MX-5 Miata LS convertible 2dr</td><td>160</td></tr><tr><td>Impala SS 4dr</td><td>161</td></tr><tr><td>Galant GTS 4dr</td><td>162</td></tr><tr><td>Elantra GLS 4dr</td><td>163</td></tr><tr><td>Outlander LS</td><td>164</td></tr><tr><td>X-Type 2.5 4dr</td><td>165</td></tr><tr><td>Grand Prix GT1 4dr</td><td>166</td></tr><tr><td>Legacy GT 4dr</td><td>167</td></tr><tr><td>S40 4dr</td><td>168</td></tr><tr><td>X-Type 3.0 4dr</td><td>169</td></tr><tr><td>Crown Victoria LX Sport 4dr</td><td>170</td></tr><tr><td>Neon SE 4dr</td><td>171</td></tr><tr><td>Grand Marquis LS Premium 4dr</td><td>172</td></tr><tr><td>325i 4dr</td><td>173</td></tr><tr><td>Lancer Evolution 4dr</td><td>174</td></tr><tr><td>FX45</td><td>175</td></tr><tr><td>XJ8 4dr</td><td>176</td></tr><tr><td>Optima LX 4dr</td><td>177</td></tr><tr><td>Canyon Z85 SL Regular Cab</td><td>178</td></tr><tr><td>Town and Country Limited</td><td>179</td></tr><tr><td>Avalon XLS 4dr</td><td>180</td></tr><tr><td>TSX 4dr</td><td>181</td></tr><tr><td>A6 3.0 Avant Quattro</td><td>182</td></tr><tr><td>Park Avenue 4dr</td><td>183</td></tr><tr><td>9-3 Arc convertible 2dr</td><td>184</td></tr><tr><td>Alero GX 2dr</td><td>185</td></tr><tr><td>S80 2.9 4dr</td><td>186</td></tr><tr><td>330Ci 2dr</td><td>187</td></tr><tr><td>Sequoia SR5</td><td>188</td></tr><tr><td>Boxster convertible 2dr</td><td>189</td></tr><tr><td>A6 4.2 Quattro 4dr</td><td>190</td></tr><tr><td>B4000 SE Cab Plus</td><td>191</td></tr><tr><td>350Z coupe 2dr</td><td>192</td></tr><tr><td>Sonoma Crew Cab</td><td>193</td></tr><tr><td>545iA 4dr</td><td>194</td></tr><tr><td>745i 4dr</td><td>195</td></tr><tr><td>L300 2</td><td>196</td></tr><tr><td>A4 3.0 convertible 2dr</td><td>197</td></tr><tr><td>Jetta GLS TDI 4dr</td><td>198</td></tr><tr><td>Sonata GLS 4dr</td><td>199</td></tr><tr><td>lon2 quad coupe 2dr</td><td>200</td></tr><tr><td>Eclipse Spyder GT convertible 2dr</td><td>201</td></tr><tr><td>ML500</td><td>202</td></tr><tr><td>C70 HPT convertible 2dr</td><td>203</td></tr><tr><td>Camry XLE V6 4dr</td><td>204</td></tr><tr><td>Aerio LX 4dr</td><td>205</td></tr><tr><td>9-3 Aero 4dr</td><td>206</td></tr><tr><td>Rio Cinco</td><td>207</td></tr><tr><td>Sentra SE-R 4dr</td><td>208</td></tr><tr><td>CLK500 coupe 2dr (convertible)</td><td>209</td></tr><tr><td>Quest SE</td><td>210</td></tr><tr><td>Maxima SE 4dr</td><td>211</td></tr><tr><td>lon3 quad coupe 2dr</td><td>212</td></tr><tr><td>XK8 coupe 2dr</td><td>213</td></tr><tr><td>Thunderbird Deluxe convert w/hardtop 2d</td><td>214</td></tr><tr><td>Prius 4dr (gas/electric)</td><td>215</td></tr><tr><td>E320</td><td>216</td></tr><tr><td>Passat GLX V6 4MOTION 4dr</td><td>217</td></tr><tr><td>Grand Cherokee Laredo</td><td>218</td></tr><tr><td>Odyssey EX</td><td>219</td></tr><tr><td>G500</td><td>220</td></tr><tr><td>Silhouette GL</td><td>221</td></tr><tr><td>Tiburon GT V6 2dr</td><td>222</td></tr><tr><td>Tribute DX 2.0</td><td>223</td></tr><tr><td>Grand Marquis GS 4dr</td><td>224</td></tr><tr><td>Lancer Sportback LS</td><td>225</td></tr><tr><td>Pacifica</td><td>226</td></tr><tr><td>S-Type 4.2 4dr</td><td>227</td></tr><tr><td>Discovery SE</td><td>228</td></tr><tr><td>9-5 Arc 4dr</td><td>229</td></tr><tr><td>Astro</td><td>230</td></tr><tr><td>Montana</td><td>231</td></tr><tr><td>Z4 convertible 3.0i 2dr</td><td>232</td></tr><tr><td>RSX Type S 2dr</td><td>233</td></tr><tr><td>Escape XLS</td><td>234</td></tr><tr><td>Cavalier 4dr</td><td>235</td></tr><tr><td>Neon SXT 4dr</td><td>236</td></tr><tr><td>SLK230 convertible 2dr</td><td>237</td></tr><tr><td>B2300 SX Regular Cab</td><td>238</td></tr><tr><td>GS 300 4dr</td><td>239</td></tr><tr><td>ES 330 4dr</td><td>240</td></tr><tr><td>LS V6 Premium 4dr</td><td>241</td></tr><tr><td>Corolla S 4dr</td><td>242</td></tr><tr><td>Sienna XLE Limited</td><td>243</td></tr><tr><td>LX 470</td><td>244</td></tr><tr><td>350Z Enthusiast convertible 2dr</td><td>245</td></tr><tr><td>Lancer LS 4dr</td><td>246</td></tr><tr><td>Celica GT-S 2dr</td><td>247</td></tr><tr><td>330Ci convertible 2dr</td><td>248</td></tr><tr><td>Colorado Z85</td><td>249</td></tr><tr><td>300M 4dr</td><td>250</td></tr><tr><td>New Beetle GLS convertible 2dr</td><td>251</td></tr><tr><td>lon3 4dr</td><td>252</td></tr><tr><td>A4 3.0 4dr</td><td>253</td></tr><tr><td>911 Carrera 4S coupe 2dr (convert)</td><td>254</td></tr><tr><td>TT 1.8 Quattro 2dr (convertible)</td><td>255</td></tr><tr><td>9-3 Arc Sport 4dr</td><td>256</td></tr><tr><td>Marauder 4dr</td><td>257</td></tr><tr><td>Grand Prix GT2 4dr</td><td>258</td></tr><tr><td>SLK32 AMG 2dr</td><td>259</td></tr><tr><td>Baja</td><td>260</td></tr><tr><td>Rio 4dr manual</td><td>261</td></tr><tr><td>325xi Sport</td><td>262</td></tr><tr><td>CL500 2dr</td><td>263</td></tr><tr><td>Sorento LX</td><td>264</td></tr><tr><td>Sable GS 4dr</td><td>265</td></tr><tr><td>Monte Carlo SS 2dr</td><td>266</td></tr><tr><td>Concorde LXi 4dr</td><td>267</td></tr><tr><td>Impala 4dr</td><td>268</td></tr><tr><td>Xterra XE V6</td><td>269</td></tr><tr><td>Malibu 4dr</td><td>270</td></tr><tr><td>Rio 4dr auto</td><td>271</td></tr><tr><td>RAV4</td><td>272</td></tr><tr><td>Diamante LS 4dr</td><td>273</td></tr><tr><td>4Runner SR5 V6</td><td>274</td></tr><tr><td>Sienna CE</td><td>275</td></tr><tr><td>Malibu Maxx LS</td><td>276</td></tr><tr><td>Camry Solara SE 2dr</td><td>277</td></tr><tr><td>Eclipse GTS 2dr</td><td>278</td></tr><tr><td>S2000 convertible 2dr</td><td>279</td></tr><tr><td>Yukon 1500 SLE</td><td>280</td></tr><tr><td>Accord LX 2dr</td><td>281</td></tr><tr><td>Aveo 4dr</td><td>282</td></tr><tr><td>Mountaineer</td><td>283</td></tr><tr><td>Aerio SX</td><td>284</td></tr><tr><td>Civic DX 2dr</td><td>285</td></tr><tr><td>Rainier</td><td>286</td></tr><tr><td>Taurus LX 4dr</td><td>287</td></tr><tr><td>Legacy L 4dr</td><td>288</td></tr><tr><td>TT 1.8 convertible 2dr (coupe)</td><td>289</td></tr><tr><td>S80 2.5T 4dr</td><td>290</td></tr><tr><td>XG350 4dr</td><td>291</td></tr><tr><td>Touareg V6</td><td>292</td></tr><tr><td>Civic Si 2dr hatch</td><td>293</td></tr><tr><td>C32 AMG 4dr</td><td>294</td></tr><tr><td>Ram 1500 Regular Cab ST</td><td>295</td></tr><tr><td>Bonneville GXP 4dr</td><td>296</td></tr><tr><td>MPV ES</td><td>297</td></tr><tr><td>Focus ZX5 5dr</td><td>298</td></tr><tr><td>Regal LS 4dr</td><td>299</td></tr><tr><td>Corolla LE 4dr</td><td>300</td></tr><tr><td>911 GT2 2dr</td><td>301</td></tr><tr><td>LS V8 Ultimate 4dr</td><td>302</td></tr><tr><td>Silverado 1500 Regular Cab</td><td>303</td></tr><tr><td>Jetta GLI VR6 4dr</td><td>304</td></tr><tr><td>XC90 T6</td><td>305</td></tr><tr><td>Endeavor XLS</td><td>306</td></tr><tr><td>SL500 convertible 2dr</td><td>307</td></tr><tr><td>Impreza 2.5 RS 4dr</td><td>308</td></tr><tr><td>Land Cruiser</td><td>309</td></tr><tr><td>Crown Victoria 4dr</td><td>310</td></tr><tr><td>Frontier King Cab XE V6</td><td>311</td></tr><tr><td>Century Custom 4dr</td><td>312</td></tr><tr><td>XC70</td><td>313</td></tr><tr><td>A4 3.0 Quattro 4dr manual</td><td>314</td></tr><tr><td>Mustang GT Premium convertible 2dr</td><td>315</td></tr><tr><td>Tacoma</td><td>316</td></tr><tr><td>VUE</td><td>317</td></tr><tr><td>Galant ES 2.4L 4dr</td><td>318</td></tr><tr><td>Malibu LS 4dr</td><td>319</td></tr><tr><td>Cooper S</td><td>320</td></tr><tr><td>330xi 4dr</td><td>321</td></tr><tr><td>A6 3.0 Quattro 4dr</td><td>322</td></tr><tr><td>S60 T5 4dr</td><td>323</td></tr><tr><td>Forester X</td><td>324</td></tr><tr><td>Avalon XL 4dr</td><td>325</td></tr><tr><td>PT Cruiser Limited 4dr</td><td>326</td></tr><tr><td>Jetta GL</td><td>327</td></tr><tr><td>Grand Marquis LS Ultimate 4dr</td><td>328</td></tr><tr><td>M3 convertible 2dr</td><td>329</td></tr><tr><td>PT Cruiser GT 4dr</td><td>330</td></tr><tr><td>Echo 4dr</td><td>331</td></tr><tr><td>GS 430 4dr</td><td>332</td></tr><tr><td>New Beetle GLS 1.8T 2dr</td><td>333</td></tr><tr><td>Matrix XR</td><td>334</td></tr><tr><td>S430 4dr</td><td>335</td></tr><tr><td>M45 4dr</td><td>336</td></tr><tr><td>Explorer XLT V6</td><td>337</td></tr><tr><td>Taurus SES Duratec 4dr</td><td>338</td></tr><tr><td>Range Rover HSE</td><td>339</td></tr><tr><td>Maxima SL 4dr</td><td>340</td></tr><tr><td>Sunfire 1SA 2dr</td><td>341</td></tr><tr><td>Sentra 1.8 4dr</td><td>342</td></tr><tr><td>Impreza WRX STi 4dr</td><td>343</td></tr><tr><td>S4 Quattro 4dr</td><td>344</td></tr><tr><td>9-5 Aero</td><td>345</td></tr><tr><td>Passat W8 4MOTION 4dr</td><td>346</td></tr><tr><td>Park Avenue Ultra 4dr</td><td>347</td></tr><tr><td>Ascender S</td><td>348</td></tr><tr><td>Regal GS 4dr</td><td>349</td></tr><tr><td>E320 4dr</td><td>350</td></tr><tr><td>Sierra Extended Cab 1500</td><td>351</td></tr><tr><td>Montana EWB</td><td>352</td></tr><tr><td>A41.8T convertible 2dr</td><td>353</td></tr><tr><td>Accord LX V6 4dr</td><td>354</td></tr><tr><td>CTS VVT 4dr</td><td>355</td></tr><tr><td>Accent GL 4dr</td><td>356</td></tr><tr><td>E500 4dr</td><td>357</td></tr><tr><td>Ranger 2.3 XL Regular Cab</td><td>358</td></tr><tr><td>Focus SE 4dr</td><td>359</td></tr><tr><td>XL-7 EX</td><td>360</td></tr><tr><td>Tundra Regular Cab V6</td><td>361</td></tr><tr><td>745Li 4dr</td><td>362</td></tr><tr><td>Quest S</td><td>363</td></tr><tr><td>Forenza S 4dr</td><td>364</td></tr><tr><td>TT 3.2 coupe 2dr (convertible)</td><td>365</td></tr><tr><td>Accent GT 2dr hatch</td><td>366</td></tr><tr><td>A6 3.0 4dr</td><td>367</td></tr><tr><td>Spectra GSX 4dr hatch</td><td>368</td></tr><tr><td>Civic EX 4dr</td><td>369</td></tr><tr><td>Boxster S convertible 2dr</td><td>370</td></tr><tr><td>I35 4dr</td><td>371</td></tr><tr><td>Accord EX 2dr</td><td>372</td></tr><tr><td>F-150 Regular Cab XL</td><td>373</td></tr><tr><td>S60 2.5 4dr</td><td>374</td></tr><tr><td>Rendezvous CX</td><td>375</td></tr><tr><td>Crossfire 2dr</td><td>376</td></tr><tr><td>325Ci convertible 2dr</td><td>377</td></tr><tr><td>V40</td><td>378</td></tr><tr><td>GX 470</td><td>379</td></tr><tr><td>Accord EX V6 2dr</td><td>380</td></tr><tr><td>LS V6 Luxury 4dr</td><td>381</td></tr><tr><td>Altima SE 4dr</td><td>382</td></tr><tr><td>Taurus SE</td><td>383</td></tr><tr><td>C240</td><td>384</td></tr><tr><td>Grand Caravan SXT</td><td>385</td></tr><tr><td>Camry LE 4dr</td><td>386</td></tr><tr><td>Freelander SE</td><td>387</td></tr><tr><td>Civic Hybrid 4dr manual (gas/electric)</td><td>388</td></tr><tr><td>Vitara LX</td><td>389</td></tr><tr><td>Liberty Sport</td><td>390</td></tr><tr><td>Rodeo S</td><td>391</td></tr><tr><td>M3 coupe 2dr</td><td>392</td></tr><tr><td>Wrangler Sahara convertible 2dr</td><td>393</td></tr><tr><td>X3 3.0i</td><td>394</td></tr><tr><td>3.5 RL 4dr</td><td>395</td></tr><tr><td>SC 430 convertible 2dr</td><td>396</td></tr><tr><td>Deville 4dr</td><td>397</td></tr><tr><td>S80 T6 4dr</td><td>398</td></tr><tr><td>Corolla CE 4dr</td><td>399</td></tr><tr><td>S-Type 3.0 4dr</td><td>400</td></tr><tr><td>L300-2 4dr</td><td>401</td></tr></tbody></table></div>"
      ]
     },
     "metadata": {
      "application/vnd.databricks.v1+output": {
       "addedWidgets": {},
       "aggData": [],
       "aggError": "",
       "aggOverflow": false,
       "aggSchema": [],
       "aggSeriesLimitReached": false,
       "aggType": "",
       "arguments": {},
       "columnCustomDisplayInfos": {},
       "data": [
        [
         "Intrepid ES 4dr",
         0
        ],
        [
         "MDX",
         1
        ],
        [
         "TL 4dr",
         2
        ],
        [
         "MX-5 Miata convertible 2dr",
         3
        ],
        [
         "Envoy XUV SLE",
         4
        ],
        [
         "530i 4dr",
         5
        ],
        [
         "Spectra 4dr",
         6
        ],
        [
         "A8 L Quattro 4dr",
         7
        ],
        [
         "RX-8 4dr manual",
         8
        ],
        [
         "Elantra GT 4dr hatch",
         9
        ],
        [
         "300M Special Edition 4dr",
         10
        ],
        [
         "G35 Sport Coupe 2dr",
         11
        ],
        [
         "Town and Country LX",
         12
        ],
        [
         "Freestar SE",
         13
        ],
        [
         "Focus SVT 2dr",
         14
        ],
        [
         "Sebring 4dr",
         15
        ],
        [
         "Stratus SE 4dr",
         16
        ],
        [
         "Highlander V6",
         17
        ],
        [
         "Spectra GS 4dr hatch",
         18
        ],
        [
         "S500 4dr",
         19
        ],
        [
         "Impala LS 4dr",
         20
        ],
        [
         "Malibu LT 4dr",
         21
        ],
        [
         "A6 2.7 Turbo Quattro 4dr",
         22
        ],
        [
         "Pathfinder SE",
         23
        ],
        [
         "Phaeton 4dr",
         24
        ],
        [
         "LeSabre Limited 4dr",
         25
        ],
        [
         "Outback",
         26
        ],
        [
         "Z4 convertible 2.5i 2dr",
         27
        ],
        [
         "Lancer OZ Rally 4dr auto",
         28
        ],
        [
         "Mazda3 i 4dr",
         29
        ],
        [
         "Passat GLS 1.8T",
         30
        ],
        [
         "Camry LE V6 4dr",
         31
        ],
        [
         "Grand Am GT 2dr",
         32
        ],
        [
         "Impreza WRX 4dr",
         33
        ],
        [
         "Optima LX V6 4dr",
         34
        ],
        [
         "IS 300 4dr auto",
         35
        ],
        [
         "Santa Fe GLS",
         36
        ],
        [
         "Civic HX 2dr",
         37
        ],
        [
         "Mazda3 s 4dr",
         38
        ],
        [
         "RX-8 4dr automatic",
         39
        ],
        [
         "Monte Carlo LS 2dr",
         40
        ],
        [
         "E500",
         41
        ],
        [
         "Outback H6 4dr",
         42
        ],
        [
         "Deville DTS 4dr",
         43
        ],
        [
         "NSX coupe 2dr manual S",
         44
        ],
        [
         "RX 330",
         45
        ],
        [
         "Sable GS",
         46
        ],
        [
         "LS V8 Sport 4dr",
         47
        ],
        [
         "Element LX",
         48
        ],
        [
         "XK8 convertible 2dr",
         49
        ],
        [
         "Camry Solara SE V6 2dr",
         50
        ],
        [
         "S-Type R 4dr",
         51
        ],
        [
         "Amanti 4dr",
         52
        ],
        [
         "Cavalier 2dr",
         53
        ],
        [
         "Safari SLE",
         54
        ],
        [
         "A4 3.0 Quattro 4dr auto",
         55
        ],
        [
         "Sentra 1.8 S 4dr",
         56
        ],
        [
         "xB",
         57
        ],
        [
         "Montero XLS",
         58
        ],
        [
         "Focus ZTW",
         59
        ],
        [
         "Cayenne S",
         60
        ],
        [
         "Alero GLS 2dr",
         61
        ],
        [
         "Town Car Signature 4dr",
         62
        ],
        [
         "Town Car Ultimate 4dr",
         63
        ],
        [
         "Odyssey LX",
         64
        ],
        [
         "Sunfire 1SC 2dr",
         65
        ],
        [
         "Elantra GT 4dr",
         66
        ],
        [
         "Mazda6 i 4dr",
         67
        ],
        [
         "Camry Solara SLE V6 2dr",
         68
        ],
        [
         "X5 4.4i",
         69
        ],
        [
         "Venture LS",
         70
        ],
        [
         "XKR convertible 2dr",
         71
        ],
        [
         "Mustang 2dr (convertible)",
         72
        ],
        [
         "Sebring Touring 4dr",
         73
        ],
        [
         "Civic LX 4dr",
         74
        ],
        [
         "Focus LX 4dr",
         75
        ],
        [
         "Sebring convertible 2dr",
         76
        ],
        [
         "Dakota Club Cab",
         77
        ],
        [
         "Aeno S 4dr",
         78
        ],
        [
         "XLR convertible 2dr",
         79
        ],
        [
         "Murano SL",
         80
        ],
        [
         "Sable LS Premium 4dr",
         81
        ],
        [
         "IS 300 SportCross",
         82
        ],
        [
         "Expedition 4.6 XLT",
         83
        ],
        [
         "Aviator Ultimate",
         84
        ],
        [
         "Durango SLT",
         85
        ],
        [
         "Passat W8",
         86
        ],
        [
         null,
         87
        ],
        [
         "MR2 Spyder convertible 2dr",
         88
        ],
        [
         "S4 Avant Quattro",
         89
        ],
        [
         "Verona LX 4dr",
         90
        ],
        [
         "Focus ZX3 2dr hatch",
         91
        ],
        [
         "S60 R 4dr",
         92
        ],
        [
         "A4 1.8T 4dr",
         93
        ],
        [
         "Monterey Luxury",
         94
        ],
        [
         "C240 4dr",
         95
        ],
        [
         "330i 4dr",
         96
        ],
        [
         "Stratus SXT 4dr",
         97
        ],
        [
         "Town Car Ultimate L 4dr",
         98
        ],
        [
         "TrailBlazer LT",
         99
        ],
        [
         "XJR 4dr",
         100
        ],
        [
         "Tracker",
         101
        ],
        [
         "PT Cruiser 4dr",
         102
        ],
        [
         "Vibe",
         103
        ],
        [
         "CR-V LX",
         104
        ],
        [
         "3.5 RL w/Navigation 4dr",
         105
        ],
        [
         "Passat GLS 4dr",
         106
        ],
        [
         "C70 LPT convertible 2dr",
         107
        ],
        [
         "Outback H-6 VDC 4dr",
         108
        ],
        [
         "Tundra Access Cab V6 SR5",
         109
        ],
        [
         "911 Targa coupe 2dr",
         110
        ],
        [
         "Ion1 4dr",
         111
        ],
        [
         "525i 4dr",
         112
        ],
        [
         "FX35",
         113
        ],
        [
         "Dakota Regular Cab",
         114
        ],
        [
         "XKR coupe 2dr",
         115
        ],
        [
         "C320 Sport 4dr",
         116
        ],
        [
         "xA 4dr hatch",
         117
        ],
        [
         "CLK320 coupe 2dr (convertible)",
         118
        ],
        [
         "Crown Victoria LX 4dr",
         119
        ],
        [
         "C320 4dr",
         120
        ],
        [
         "C230 Sport 2dr",
         121
        ],
        [
         "911 Carrera convertible 2dr (coupe)",
         122
        ],
        [
         "G35 4dr",
         123
        ],
        [
         "Golf GLS 4dr",
         124
        ],
        [
         "Vanden Plas 4dr",
         125
        ],
        [
         "Cooper",
         126
        ],
        [
         "Sebring Limited convertible 2dr",
         127
        ],
        [
         "325xi 4dr",
         128
        ],
        [
         "Echo 2dr auto",
         129
        ],
        [
         "Accent 2dr hatch",
         130
        ],
        [
         "Intrepid SE 4dr",
         131
        ],
        [
         "Forenza EX 4dr",
         132
        ],
        [
         "Caravan SE",
         133
        ],
        [
         "RS 6 4dr",
         134
        ],
        [
         "Pilot LX",
         135
        ],
        [
         "XG350 L 4dr",
         136
        ],
        [
         "IS 300 4dr manual",
         137
        ],
        [
         "Outback Limited Sedan 4dr",
         138
        ],
        [
         "Concorde LX 4dr",
         139
        ],
        [
         "A4 3.0 Quattro convertible 2dr",
         140
        ],
        [
         "SRX V8",
         141
        ],
        [
         "325Ci 2dr",
         142
        ],
        [
         "Lancer ES 4dr",
         143
        ],
        [
         "lon2 4dr",
         144
        ],
        [
         "Echo 2dr manual",
         145
        ],
        [
         "GTI 1.8T 2dr hatch",
         146
        ],
        [
         "Altima S 4dr",
         147
        ],
        [
         "Cavalier LS 2dr",
         148
        ],
        [
         "9-3 Aero convertible 2dr",
         149
        ],
        [
         "Sedona LX",
         150
        ],
        [
         "Q45 Luxury 4dr",
         151
        ],
        [
         "Aveo LS 4dr hatch",
         152
        ],
        [
         "Insight 2dr (gas/electric)",
         153
        ],
        [
         "Seville SLS 4dr",
         154
        ],
        [
         "LeSabre Custom 4dr",
         155
        ],
        [
         "Sonata LX 4dr",
         156
        ],
        [
         "Aztekt",
         157
        ],
        [
         "LS 430 4dr",
         158
        ],
        [
         "9-5 Aero 4dr",
         159
        ],
        [
         "MX-5 Miata LS convertible 2dr",
         160
        ],
        [
         "Impala SS 4dr",
         161
        ],
        [
         "Galant GTS 4dr",
         162
        ],
        [
         "Elantra GLS 4dr",
         163
        ],
        [
         "Outlander LS",
         164
        ],
        [
         "X-Type 2.5 4dr",
         165
        ],
        [
         "Grand Prix GT1 4dr",
         166
        ],
        [
         "Legacy GT 4dr",
         167
        ],
        [
         "S40 4dr",
         168
        ],
        [
         "X-Type 3.0 4dr",
         169
        ],
        [
         "Crown Victoria LX Sport 4dr",
         170
        ],
        [
         "Neon SE 4dr",
         171
        ],
        [
         "Grand Marquis LS Premium 4dr",
         172
        ],
        [
         "325i 4dr",
         173
        ],
        [
         "Lancer Evolution 4dr",
         174
        ],
        [
         "FX45",
         175
        ],
        [
         "XJ8 4dr",
         176
        ],
        [
         "Optima LX 4dr",
         177
        ],
        [
         "Canyon Z85 SL Regular Cab",
         178
        ],
        [
         "Town and Country Limited",
         179
        ],
        [
         "Avalon XLS 4dr",
         180
        ],
        [
         "TSX 4dr",
         181
        ],
        [
         "A6 3.0 Avant Quattro",
         182
        ],
        [
         "Park Avenue 4dr",
         183
        ],
        [
         "9-3 Arc convertible 2dr",
         184
        ],
        [
         "Alero GX 2dr",
         185
        ],
        [
         "S80 2.9 4dr",
         186
        ],
        [
         "330Ci 2dr",
         187
        ],
        [
         "Sequoia SR5",
         188
        ],
        [
         "Boxster convertible 2dr",
         189
        ],
        [
         "A6 4.2 Quattro 4dr",
         190
        ],
        [
         "B4000 SE Cab Plus",
         191
        ],
        [
         "350Z coupe 2dr",
         192
        ],
        [
         "Sonoma Crew Cab",
         193
        ],
        [
         "545iA 4dr",
         194
        ],
        [
         "745i 4dr",
         195
        ],
        [
         "L300 2",
         196
        ],
        [
         "A4 3.0 convertible 2dr",
         197
        ],
        [
         "Jetta GLS TDI 4dr",
         198
        ],
        [
         "Sonata GLS 4dr",
         199
        ],
        [
         "lon2 quad coupe 2dr",
         200
        ],
        [
         "Eclipse Spyder GT convertible 2dr",
         201
        ],
        [
         "ML500",
         202
        ],
        [
         "C70 HPT convertible 2dr",
         203
        ],
        [
         "Camry XLE V6 4dr",
         204
        ],
        [
         "Aerio LX 4dr",
         205
        ],
        [
         "9-3 Aero 4dr",
         206
        ],
        [
         "Rio Cinco",
         207
        ],
        [
         "Sentra SE-R 4dr",
         208
        ],
        [
         "CLK500 coupe 2dr (convertible)",
         209
        ],
        [
         "Quest SE",
         210
        ],
        [
         "Maxima SE 4dr",
         211
        ],
        [
         "lon3 quad coupe 2dr",
         212
        ],
        [
         "XK8 coupe 2dr",
         213
        ],
        [
         "Thunderbird Deluxe convert w/hardtop 2d",
         214
        ],
        [
         "Prius 4dr (gas/electric)",
         215
        ],
        [
         "E320",
         216
        ],
        [
         "Passat GLX V6 4MOTION 4dr",
         217
        ],
        [
         "Grand Cherokee Laredo",
         218
        ],
        [
         "Odyssey EX",
         219
        ],
        [
         "G500",
         220
        ],
        [
         "Silhouette GL",
         221
        ],
        [
         "Tiburon GT V6 2dr",
         222
        ],
        [
         "Tribute DX 2.0",
         223
        ],
        [
         "Grand Marquis GS 4dr",
         224
        ],
        [
         "Lancer Sportback LS",
         225
        ],
        [
         "Pacifica",
         226
        ],
        [
         "S-Type 4.2 4dr",
         227
        ],
        [
         "Discovery SE",
         228
        ],
        [
         "9-5 Arc 4dr",
         229
        ],
        [
         "Astro",
         230
        ],
        [
         "Montana",
         231
        ],
        [
         "Z4 convertible 3.0i 2dr",
         232
        ],
        [
         "RSX Type S 2dr",
         233
        ],
        [
         "Escape XLS",
         234
        ],
        [
         "Cavalier 4dr",
         235
        ],
        [
         "Neon SXT 4dr",
         236
        ],
        [
         "SLK230 convertible 2dr",
         237
        ],
        [
         "B2300 SX Regular Cab",
         238
        ],
        [
         "GS 300 4dr",
         239
        ],
        [
         "ES 330 4dr",
         240
        ],
        [
         "LS V6 Premium 4dr",
         241
        ],
        [
         "Corolla S 4dr",
         242
        ],
        [
         "Sienna XLE Limited",
         243
        ],
        [
         "LX 470",
         244
        ],
        [
         "350Z Enthusiast convertible 2dr",
         245
        ],
        [
         "Lancer LS 4dr",
         246
        ],
        [
         "Celica GT-S 2dr",
         247
        ],
        [
         "330Ci convertible 2dr",
         248
        ],
        [
         "Colorado Z85",
         249
        ],
        [
         "300M 4dr",
         250
        ],
        [
         "New Beetle GLS convertible 2dr",
         251
        ],
        [
         "lon3 4dr",
         252
        ],
        [
         "A4 3.0 4dr",
         253
        ],
        [
         "911 Carrera 4S coupe 2dr (convert)",
         254
        ],
        [
         "TT 1.8 Quattro 2dr (convertible)",
         255
        ],
        [
         "9-3 Arc Sport 4dr",
         256
        ],
        [
         "Marauder 4dr",
         257
        ],
        [
         "Grand Prix GT2 4dr",
         258
        ],
        [
         "SLK32 AMG 2dr",
         259
        ],
        [
         "Baja",
         260
        ],
        [
         "Rio 4dr manual",
         261
        ],
        [
         "325xi Sport",
         262
        ],
        [
         "CL500 2dr",
         263
        ],
        [
         "Sorento LX",
         264
        ],
        [
         "Sable GS 4dr",
         265
        ],
        [
         "Monte Carlo SS 2dr",
         266
        ],
        [
         "Concorde LXi 4dr",
         267
        ],
        [
         "Impala 4dr",
         268
        ],
        [
         "Xterra XE V6",
         269
        ],
        [
         "Malibu 4dr",
         270
        ],
        [
         "Rio 4dr auto",
         271
        ],
        [
         "RAV4",
         272
        ],
        [
         "Diamante LS 4dr",
         273
        ],
        [
         "4Runner SR5 V6",
         274
        ],
        [
         "Sienna CE",
         275
        ],
        [
         "Malibu Maxx LS",
         276
        ],
        [
         "Camry Solara SE 2dr",
         277
        ],
        [
         "Eclipse GTS 2dr",
         278
        ],
        [
         "S2000 convertible 2dr",
         279
        ],
        [
         "Yukon 1500 SLE",
         280
        ],
        [
         "Accord LX 2dr",
         281
        ],
        [
         "Aveo 4dr",
         282
        ],
        [
         "Mountaineer",
         283
        ],
        [
         "Aerio SX",
         284
        ],
        [
         "Civic DX 2dr",
         285
        ],
        [
         "Rainier",
         286
        ],
        [
         "Taurus LX 4dr",
         287
        ],
        [
         "Legacy L 4dr",
         288
        ],
        [
         "TT 1.8 convertible 2dr (coupe)",
         289
        ],
        [
         "S80 2.5T 4dr",
         290
        ],
        [
         "XG350 4dr",
         291
        ],
        [
         "Touareg V6",
         292
        ],
        [
         "Civic Si 2dr hatch",
         293
        ],
        [
         "C32 AMG 4dr",
         294
        ],
        [
         "Ram 1500 Regular Cab ST",
         295
        ],
        [
         "Bonneville GXP 4dr",
         296
        ],
        [
         "MPV ES",
         297
        ],
        [
         "Focus ZX5 5dr",
         298
        ],
        [
         "Regal LS 4dr",
         299
        ],
        [
         "Corolla LE 4dr",
         300
        ],
        [
         "911 GT2 2dr",
         301
        ],
        [
         "LS V8 Ultimate 4dr",
         302
        ],
        [
         "Silverado 1500 Regular Cab",
         303
        ],
        [
         "Jetta GLI VR6 4dr",
         304
        ],
        [
         "XC90 T6",
         305
        ],
        [
         "Endeavor XLS",
         306
        ],
        [
         "SL500 convertible 2dr",
         307
        ],
        [
         "Impreza 2.5 RS 4dr",
         308
        ],
        [
         "Land Cruiser",
         309
        ],
        [
         "Crown Victoria 4dr",
         310
        ],
        [
         "Frontier King Cab XE V6",
         311
        ],
        [
         "Century Custom 4dr",
         312
        ],
        [
         "XC70",
         313
        ],
        [
         "A4 3.0 Quattro 4dr manual",
         314
        ],
        [
         "Mustang GT Premium convertible 2dr",
         315
        ],
        [
         "Tacoma",
         316
        ],
        [
         "VUE",
         317
        ],
        [
         "Galant ES 2.4L 4dr",
         318
        ],
        [
         "Malibu LS 4dr",
         319
        ],
        [
         "Cooper S",
         320
        ],
        [
         "330xi 4dr",
         321
        ],
        [
         "A6 3.0 Quattro 4dr",
         322
        ],
        [
         "S60 T5 4dr",
         323
        ],
        [
         "Forester X",
         324
        ],
        [
         "Avalon XL 4dr",
         325
        ],
        [
         "PT Cruiser Limited 4dr",
         326
        ],
        [
         "Jetta GL",
         327
        ],
        [
         "Grand Marquis LS Ultimate 4dr",
         328
        ],
        [
         "M3 convertible 2dr",
         329
        ],
        [
         "PT Cruiser GT 4dr",
         330
        ],
        [
         "Echo 4dr",
         331
        ],
        [
         "GS 430 4dr",
         332
        ],
        [
         "New Beetle GLS 1.8T 2dr",
         333
        ],
        [
         "Matrix XR",
         334
        ],
        [
         "S430 4dr",
         335
        ],
        [
         "M45 4dr",
         336
        ],
        [
         "Explorer XLT V6",
         337
        ],
        [
         "Taurus SES Duratec 4dr",
         338
        ],
        [
         "Range Rover HSE",
         339
        ],
        [
         "Maxima SL 4dr",
         340
        ],
        [
         "Sunfire 1SA 2dr",
         341
        ],
        [
         "Sentra 1.8 4dr",
         342
        ],
        [
         "Impreza WRX STi 4dr",
         343
        ],
        [
         "S4 Quattro 4dr",
         344
        ],
        [
         "9-5 Aero",
         345
        ],
        [
         "Passat W8 4MOTION 4dr",
         346
        ],
        [
         "Park Avenue Ultra 4dr",
         347
        ],
        [
         "Ascender S",
         348
        ],
        [
         "Regal GS 4dr",
         349
        ],
        [
         "E320 4dr",
         350
        ],
        [
         "Sierra Extended Cab 1500",
         351
        ],
        [
         "Montana EWB",
         352
        ],
        [
         "A41.8T convertible 2dr",
         353
        ],
        [
         "Accord LX V6 4dr",
         354
        ],
        [
         "CTS VVT 4dr",
         355
        ],
        [
         "Accent GL 4dr",
         356
        ],
        [
         "E500 4dr",
         357
        ],
        [
         "Ranger 2.3 XL Regular Cab",
         358
        ],
        [
         "Focus SE 4dr",
         359
        ],
        [
         "XL-7 EX",
         360
        ],
        [
         "Tundra Regular Cab V6",
         361
        ],
        [
         "745Li 4dr",
         362
        ],
        [
         "Quest S",
         363
        ],
        [
         "Forenza S 4dr",
         364
        ],
        [
         "TT 3.2 coupe 2dr (convertible)",
         365
        ],
        [
         "Accent GT 2dr hatch",
         366
        ],
        [
         "A6 3.0 4dr",
         367
        ],
        [
         "Spectra GSX 4dr hatch",
         368
        ],
        [
         "Civic EX 4dr",
         369
        ],
        [
         "Boxster S convertible 2dr",
         370
        ],
        [
         "I35 4dr",
         371
        ],
        [
         "Accord EX 2dr",
         372
        ],
        [
         "F-150 Regular Cab XL",
         373
        ],
        [
         "S60 2.5 4dr",
         374
        ],
        [
         "Rendezvous CX",
         375
        ],
        [
         "Crossfire 2dr",
         376
        ],
        [
         "325Ci convertible 2dr",
         377
        ],
        [
         "V40",
         378
        ],
        [
         "GX 470",
         379
        ],
        [
         "Accord EX V6 2dr",
         380
        ],
        [
         "LS V6 Luxury 4dr",
         381
        ],
        [
         "Altima SE 4dr",
         382
        ],
        [
         "Taurus SE",
         383
        ],
        [
         "C240",
         384
        ],
        [
         "Grand Caravan SXT",
         385
        ],
        [
         "Camry LE 4dr",
         386
        ],
        [
         "Freelander SE",
         387
        ],
        [
         "Civic Hybrid 4dr manual (gas/electric)",
         388
        ],
        [
         "Vitara LX",
         389
        ],
        [
         "Liberty Sport",
         390
        ],
        [
         "Rodeo S",
         391
        ],
        [
         "M3 coupe 2dr",
         392
        ],
        [
         "Wrangler Sahara convertible 2dr",
         393
        ],
        [
         "X3 3.0i",
         394
        ],
        [
         "3.5 RL 4dr",
         395
        ],
        [
         "SC 430 convertible 2dr",
         396
        ],
        [
         "Deville 4dr",
         397
        ],
        [
         "S80 T6 4dr",
         398
        ],
        [
         "Corolla CE 4dr",
         399
        ],
        [
         "S-Type 3.0 4dr",
         400
        ],
        [
         "L300-2 4dr",
         401
        ]
       ],
       "datasetInfos": [],
       "dbfsResultPath": null,
       "isJsonSchema": true,
       "metadata": {},
       "overflow": false,
       "plotOptions": {
        "customPlotOptions": {},
        "displayType": "table",
        "pivotAggregation": null,
        "pivotColumns": null,
        "xColumns": null,
        "yColumns": null
       },
       "removedWidgets": [],
       "schema": [
        {
         "metadata": "{}",
         "name": "Model",
         "type": "\"string\""
        },
        {
         "metadata": "{}",
         "name": "dim_Model_key",
         "type": "\"long\""
        }
       ],
       "type": "table"
      }
     },
     "output_type": "display_data"
    }
   ],
   "source": [
    "df_filter_new.display()"
   ]
  },
  {
   "cell_type": "code",
   "execution_count": 0,
   "metadata": {
    "application/vnd.databricks.v1+cell": {
     "cellMetadata": {
      "byteLimit": 2048000,
      "rowLimit": 10000
     },
     "inputWidgets": {},
     "nuid": "91245b9e-406c-4062-867d-0bf096c57d4a",
     "showTitle": false,
     "tableResultSettingsMap": {},
     "title": ""
    }
   },
   "outputs": [],
   "source": []
  },
  {
   "cell_type": "markdown",
   "metadata": {
    "application/vnd.databricks.v1+cell": {
     "cellMetadata": {
      "byteLimit": 2048000,
      "rowLimit": 10000
     },
     "inputWidgets": {},
     "nuid": "6f6bd87a-2dfe-4d3a-a8ce-bf22283afe81",
     "showTitle": false,
     "tableResultSettingsMap": {},
     "title": ""
    }
   },
   "source": [
    "Create final df = df_filter_old+ df_filter_new"
   ]
  },
  {
   "cell_type": "code",
   "execution_count": 0,
   "metadata": {
    "application/vnd.databricks.v1+cell": {
     "cellMetadata": {
      "byteLimit": 2048000,
      "rowLimit": 10000
     },
     "inputWidgets": {},
     "nuid": "bde38b07-e2c6-465c-bd07-34622b317f40",
     "showTitle": false,
     "tableResultSettingsMap": {},
     "title": ""
    }
   },
   "outputs": [],
   "source": [
    "df_final=df_filter_old.union(df_filter_new)"
   ]
  },
  {
   "cell_type": "code",
   "execution_count": 0,
   "metadata": {
    "application/vnd.databricks.v1+cell": {
     "cellMetadata": {
      "byteLimit": 2048000,
      "rowLimit": 10000
     },
     "inputWidgets": {},
     "nuid": "5c439b24-9854-4d61-80b9-96485b95b01d",
     "showTitle": false,
     "tableResultSettingsMap": {},
     "title": ""
    }
   },
   "outputs": [],
   "source": []
  },
  {
   "cell_type": "markdown",
   "metadata": {
    "application/vnd.databricks.v1+cell": {
     "cellMetadata": {
      "byteLimit": 2048000,
      "rowLimit": 10000
     },
     "inputWidgets": {},
     "nuid": "4d6fab71-5d0e-4843-a411-0ed673b01556",
     "showTitle": false,
     "tableResultSettingsMap": {},
     "title": ""
    }
   },
   "source": [
    "SCD TYPE -1 (UPSERT)"
   ]
  },
  {
   "cell_type": "code",
   "execution_count": 0,
   "metadata": {
    "application/vnd.databricks.v1+cell": {
     "cellMetadata": {
      "byteLimit": 2048000,
      "rowLimit": 10000
     },
     "inputWidgets": {},
     "nuid": "2031e5f2-8e15-4c18-8a39-b3d16fe6ec4e",
     "showTitle": false,
     "tableResultSettingsMap": {},
     "title": ""
    }
   },
   "outputs": [],
   "source": [
    "from delta.tables import DeltaTable\n"
   ]
  },
  {
   "cell_type": "code",
   "execution_count": 0,
   "metadata": {
    "application/vnd.databricks.v1+cell": {
     "cellMetadata": {
      "byteLimit": 2048000,
      "rowLimit": 10000
     },
     "inputWidgets": {},
     "nuid": "c60eb36d-6a8e-41ba-888b-9bb523142f06",
     "showTitle": false,
     "tableResultSettingsMap": {},
     "title": ""
    }
   },
   "outputs": [
    {
     "output_type": "display_data",
     "data": {
      "text/plain": [
       "\u001B[0;31m---------------------------------------------------------------------------\u001B[0m\n",
       "\u001B[0;31mAnalysisException\u001B[0m                         Traceback (most recent call last)\n",
       "File \u001B[0;32m<command-4264806174803197>, line 6\u001B[0m\n",
       "\u001B[1;32m      4\u001B[0m     delta_table\u001B[38;5;241m.\u001B[39malias(\u001B[38;5;124m\"\u001B[39m\u001B[38;5;124mtrg\u001B[39m\u001B[38;5;124m\"\u001B[39m)\u001B[38;5;241m.\u001B[39mmerge(df_final\u001B[38;5;241m.\u001B[39malias(\u001B[38;5;124m\"\u001B[39m\u001B[38;5;124msrc\u001B[39m\u001B[38;5;124m\"\u001B[39m),\u001B[38;5;124m\"\u001B[39m\u001B[38;5;124mtrg.dim_Model_key=src.dim_model_key\u001B[39m\u001B[38;5;124m\"\u001B[39m)\u001B[38;5;241m.\u001B[39mwhenMatchedUpdateAll()\u001B[38;5;241m.\u001B[39mwhenNotMatchedInsertAll()\u001B[38;5;241m.\u001B[39mexecute()\n",
       "\u001B[1;32m      5\u001B[0m \u001B[38;5;28;01melse\u001B[39;00m:\n",
       "\u001B[0;32m----> 6\u001B[0m         df_final\u001B[38;5;241m.\u001B[39mwrite\u001B[38;5;241m.\u001B[39mformat(\u001B[38;5;124m'\u001B[39m\u001B[38;5;124mdelta\u001B[39m\u001B[38;5;124m'\u001B[39m)\u001B[38;5;241m.\u001B[39mmode(\u001B[38;5;124m'\u001B[39m\u001B[38;5;124moverwrite\u001B[39m\u001B[38;5;124m'\u001B[39m)\u001B[38;5;241m.\u001B[39moption(\u001B[38;5;124m\"\u001B[39m\u001B[38;5;124mpath\u001B[39m\u001B[38;5;124m\"\u001B[39m,\u001B[38;5;124m\"\u001B[39m\u001B[38;5;124mabfss://gold@carsmalyanadatalake.dfs.core.windows.net/dim_Model\u001B[39m\u001B[38;5;124m\"\u001B[39m)\u001B[38;5;241m.\u001B[39msaveAsTable(\u001B[38;5;124m\"\u001B[39m\u001B[38;5;124mcars.gold.dim_Model\u001B[39m\u001B[38;5;124m\"\u001B[39m)\n",
       "\n",
       "File \u001B[0;32m/databricks/spark/python/pyspark/instrumentation_utils.py:47\u001B[0m, in \u001B[0;36m_wrap_function.<locals>.wrapper\u001B[0;34m(*args, **kwargs)\u001B[0m\n",
       "\u001B[1;32m     45\u001B[0m start \u001B[38;5;241m=\u001B[39m time\u001B[38;5;241m.\u001B[39mperf_counter()\n",
       "\u001B[1;32m     46\u001B[0m \u001B[38;5;28;01mtry\u001B[39;00m:\n",
       "\u001B[0;32m---> 47\u001B[0m     res \u001B[38;5;241m=\u001B[39m func(\u001B[38;5;241m*\u001B[39margs, \u001B[38;5;241m*\u001B[39m\u001B[38;5;241m*\u001B[39mkwargs)\n",
       "\u001B[1;32m     48\u001B[0m     logger\u001B[38;5;241m.\u001B[39mlog_success(\n",
       "\u001B[1;32m     49\u001B[0m         module_name, class_name, function_name, time\u001B[38;5;241m.\u001B[39mperf_counter() \u001B[38;5;241m-\u001B[39m start, signature\n",
       "\u001B[1;32m     50\u001B[0m     )\n",
       "\u001B[1;32m     51\u001B[0m     \u001B[38;5;28;01mreturn\u001B[39;00m res\n",
       "\n",
       "File \u001B[0;32m/databricks/spark/python/pyspark/sql/readwriter.py:1857\u001B[0m, in \u001B[0;36mDataFrameWriter.saveAsTable\u001B[0;34m(self, name, format, mode, partitionBy, **options)\u001B[0m\n",
       "\u001B[1;32m   1855\u001B[0m \u001B[38;5;28;01mif\u001B[39;00m \u001B[38;5;28mformat\u001B[39m \u001B[38;5;129;01mis\u001B[39;00m \u001B[38;5;129;01mnot\u001B[39;00m \u001B[38;5;28;01mNone\u001B[39;00m:\n",
       "\u001B[1;32m   1856\u001B[0m     \u001B[38;5;28mself\u001B[39m\u001B[38;5;241m.\u001B[39mformat(\u001B[38;5;28mformat\u001B[39m)\n",
       "\u001B[0;32m-> 1857\u001B[0m \u001B[38;5;28mself\u001B[39m\u001B[38;5;241m.\u001B[39m_jwrite\u001B[38;5;241m.\u001B[39msaveAsTable(name)\n",
       "\n",
       "File \u001B[0;32m/databricks/spark/python/lib/py4j-0.10.9.7-src.zip/py4j/java_gateway.py:1355\u001B[0m, in \u001B[0;36mJavaMember.__call__\u001B[0;34m(self, *args)\u001B[0m\n",
       "\u001B[1;32m   1349\u001B[0m command \u001B[38;5;241m=\u001B[39m proto\u001B[38;5;241m.\u001B[39mCALL_COMMAND_NAME \u001B[38;5;241m+\u001B[39m\\\n",
       "\u001B[1;32m   1350\u001B[0m     \u001B[38;5;28mself\u001B[39m\u001B[38;5;241m.\u001B[39mcommand_header \u001B[38;5;241m+\u001B[39m\\\n",
       "\u001B[1;32m   1351\u001B[0m     args_command \u001B[38;5;241m+\u001B[39m\\\n",
       "\u001B[1;32m   1352\u001B[0m     proto\u001B[38;5;241m.\u001B[39mEND_COMMAND_PART\n",
       "\u001B[1;32m   1354\u001B[0m answer \u001B[38;5;241m=\u001B[39m \u001B[38;5;28mself\u001B[39m\u001B[38;5;241m.\u001B[39mgateway_client\u001B[38;5;241m.\u001B[39msend_command(command)\n",
       "\u001B[0;32m-> 1355\u001B[0m return_value \u001B[38;5;241m=\u001B[39m get_return_value(\n",
       "\u001B[1;32m   1356\u001B[0m     answer, \u001B[38;5;28mself\u001B[39m\u001B[38;5;241m.\u001B[39mgateway_client, \u001B[38;5;28mself\u001B[39m\u001B[38;5;241m.\u001B[39mtarget_id, \u001B[38;5;28mself\u001B[39m\u001B[38;5;241m.\u001B[39mname)\n",
       "\u001B[1;32m   1358\u001B[0m \u001B[38;5;28;01mfor\u001B[39;00m temp_arg \u001B[38;5;129;01min\u001B[39;00m temp_args:\n",
       "\u001B[1;32m   1359\u001B[0m     \u001B[38;5;28;01mif\u001B[39;00m \u001B[38;5;28mhasattr\u001B[39m(temp_arg, \u001B[38;5;124m\"\u001B[39m\u001B[38;5;124m_detach\u001B[39m\u001B[38;5;124m\"\u001B[39m):\n",
       "\n",
       "File \u001B[0;32m/databricks/spark/python/pyspark/errors/exceptions/captured.py:269\u001B[0m, in \u001B[0;36mcapture_sql_exception.<locals>.deco\u001B[0;34m(*a, **kw)\u001B[0m\n",
       "\u001B[1;32m    265\u001B[0m converted \u001B[38;5;241m=\u001B[39m convert_exception(e\u001B[38;5;241m.\u001B[39mjava_exception)\n",
       "\u001B[1;32m    266\u001B[0m \u001B[38;5;28;01mif\u001B[39;00m \u001B[38;5;129;01mnot\u001B[39;00m \u001B[38;5;28misinstance\u001B[39m(converted, UnknownException):\n",
       "\u001B[1;32m    267\u001B[0m     \u001B[38;5;66;03m# Hide where the exception came from that shows a non-Pythonic\u001B[39;00m\n",
       "\u001B[1;32m    268\u001B[0m     \u001B[38;5;66;03m# JVM exception message.\u001B[39;00m\n",
       "\u001B[0;32m--> 269\u001B[0m     \u001B[38;5;28;01mraise\u001B[39;00m converted \u001B[38;5;28;01mfrom\u001B[39;00m \u001B[38;5;28;01mNone\u001B[39;00m\n",
       "\u001B[1;32m    270\u001B[0m \u001B[38;5;28;01melse\u001B[39;00m:\n",
       "\u001B[1;32m    271\u001B[0m     \u001B[38;5;28;01mraise\u001B[39;00m\n",
       "\n",
       "\u001B[0;31mAnalysisException\u001B[0m: [NO_SUCH_CATALOG_EXCEPTION] Catalog 'cars' was not found. Please verify the catalog name and then retry the query or command again."
      ]
     },
     "metadata": {
      "application/vnd.databricks.v1+output": {
       "addedWidgets": {},
       "arguments": {},
       "datasetInfos": [],
       "jupyterProps": {
        "ename": "AnalysisException",
        "evalue": "[NO_SUCH_CATALOG_EXCEPTION] Catalog 'cars' was not found. Please verify the catalog name and then retry the query or command again."
       },
       "metadata": {
        "errorSummary": "[NO_SUCH_CATALOG_EXCEPTION] Catalog 'cars' was not found. Please verify the catalog name and then retry the query or command again."
       },
       "removedWidgets": [],
       "sqlProps": {
        "errorClass": "NO_SUCH_CATALOG_EXCEPTION",
        "pysparkCallSite": "",
        "pysparkFragment": "",
        "sqlState": null,
        "stackTrace": null,
        "startIndex": null,
        "stopIndex": null
       },
       "stackFrames": [
        "\u001B[0;31m---------------------------------------------------------------------------\u001B[0m",
        "\u001B[0;31mAnalysisException\u001B[0m                         Traceback (most recent call last)",
        "File \u001B[0;32m<command-4264806174803197>, line 6\u001B[0m\n\u001B[1;32m      4\u001B[0m     delta_table\u001B[38;5;241m.\u001B[39malias(\u001B[38;5;124m\"\u001B[39m\u001B[38;5;124mtrg\u001B[39m\u001B[38;5;124m\"\u001B[39m)\u001B[38;5;241m.\u001B[39mmerge(df_final\u001B[38;5;241m.\u001B[39malias(\u001B[38;5;124m\"\u001B[39m\u001B[38;5;124msrc\u001B[39m\u001B[38;5;124m\"\u001B[39m),\u001B[38;5;124m\"\u001B[39m\u001B[38;5;124mtrg.dim_Model_key=src.dim_model_key\u001B[39m\u001B[38;5;124m\"\u001B[39m)\u001B[38;5;241m.\u001B[39mwhenMatchedUpdateAll()\u001B[38;5;241m.\u001B[39mwhenNotMatchedInsertAll()\u001B[38;5;241m.\u001B[39mexecute()\n\u001B[1;32m      5\u001B[0m \u001B[38;5;28;01melse\u001B[39;00m:\n\u001B[0;32m----> 6\u001B[0m         df_final\u001B[38;5;241m.\u001B[39mwrite\u001B[38;5;241m.\u001B[39mformat(\u001B[38;5;124m'\u001B[39m\u001B[38;5;124mdelta\u001B[39m\u001B[38;5;124m'\u001B[39m)\u001B[38;5;241m.\u001B[39mmode(\u001B[38;5;124m'\u001B[39m\u001B[38;5;124moverwrite\u001B[39m\u001B[38;5;124m'\u001B[39m)\u001B[38;5;241m.\u001B[39moption(\u001B[38;5;124m\"\u001B[39m\u001B[38;5;124mpath\u001B[39m\u001B[38;5;124m\"\u001B[39m,\u001B[38;5;124m\"\u001B[39m\u001B[38;5;124mabfss://gold@carsmalyanadatalake.dfs.core.windows.net/dim_Model\u001B[39m\u001B[38;5;124m\"\u001B[39m)\u001B[38;5;241m.\u001B[39msaveAsTable(\u001B[38;5;124m\"\u001B[39m\u001B[38;5;124mcars.gold.dim_Model\u001B[39m\u001B[38;5;124m\"\u001B[39m)\n",
        "File \u001B[0;32m/databricks/spark/python/pyspark/instrumentation_utils.py:47\u001B[0m, in \u001B[0;36m_wrap_function.<locals>.wrapper\u001B[0;34m(*args, **kwargs)\u001B[0m\n\u001B[1;32m     45\u001B[0m start \u001B[38;5;241m=\u001B[39m time\u001B[38;5;241m.\u001B[39mperf_counter()\n\u001B[1;32m     46\u001B[0m \u001B[38;5;28;01mtry\u001B[39;00m:\n\u001B[0;32m---> 47\u001B[0m     res \u001B[38;5;241m=\u001B[39m func(\u001B[38;5;241m*\u001B[39margs, \u001B[38;5;241m*\u001B[39m\u001B[38;5;241m*\u001B[39mkwargs)\n\u001B[1;32m     48\u001B[0m     logger\u001B[38;5;241m.\u001B[39mlog_success(\n\u001B[1;32m     49\u001B[0m         module_name, class_name, function_name, time\u001B[38;5;241m.\u001B[39mperf_counter() \u001B[38;5;241m-\u001B[39m start, signature\n\u001B[1;32m     50\u001B[0m     )\n\u001B[1;32m     51\u001B[0m     \u001B[38;5;28;01mreturn\u001B[39;00m res\n",
        "File \u001B[0;32m/databricks/spark/python/pyspark/sql/readwriter.py:1857\u001B[0m, in \u001B[0;36mDataFrameWriter.saveAsTable\u001B[0;34m(self, name, format, mode, partitionBy, **options)\u001B[0m\n\u001B[1;32m   1855\u001B[0m \u001B[38;5;28;01mif\u001B[39;00m \u001B[38;5;28mformat\u001B[39m \u001B[38;5;129;01mis\u001B[39;00m \u001B[38;5;129;01mnot\u001B[39;00m \u001B[38;5;28;01mNone\u001B[39;00m:\n\u001B[1;32m   1856\u001B[0m     \u001B[38;5;28mself\u001B[39m\u001B[38;5;241m.\u001B[39mformat(\u001B[38;5;28mformat\u001B[39m)\n\u001B[0;32m-> 1857\u001B[0m \u001B[38;5;28mself\u001B[39m\u001B[38;5;241m.\u001B[39m_jwrite\u001B[38;5;241m.\u001B[39msaveAsTable(name)\n",
        "File \u001B[0;32m/databricks/spark/python/lib/py4j-0.10.9.7-src.zip/py4j/java_gateway.py:1355\u001B[0m, in \u001B[0;36mJavaMember.__call__\u001B[0;34m(self, *args)\u001B[0m\n\u001B[1;32m   1349\u001B[0m command \u001B[38;5;241m=\u001B[39m proto\u001B[38;5;241m.\u001B[39mCALL_COMMAND_NAME \u001B[38;5;241m+\u001B[39m\\\n\u001B[1;32m   1350\u001B[0m     \u001B[38;5;28mself\u001B[39m\u001B[38;5;241m.\u001B[39mcommand_header \u001B[38;5;241m+\u001B[39m\\\n\u001B[1;32m   1351\u001B[0m     args_command \u001B[38;5;241m+\u001B[39m\\\n\u001B[1;32m   1352\u001B[0m     proto\u001B[38;5;241m.\u001B[39mEND_COMMAND_PART\n\u001B[1;32m   1354\u001B[0m answer \u001B[38;5;241m=\u001B[39m \u001B[38;5;28mself\u001B[39m\u001B[38;5;241m.\u001B[39mgateway_client\u001B[38;5;241m.\u001B[39msend_command(command)\n\u001B[0;32m-> 1355\u001B[0m return_value \u001B[38;5;241m=\u001B[39m get_return_value(\n\u001B[1;32m   1356\u001B[0m     answer, \u001B[38;5;28mself\u001B[39m\u001B[38;5;241m.\u001B[39mgateway_client, \u001B[38;5;28mself\u001B[39m\u001B[38;5;241m.\u001B[39mtarget_id, \u001B[38;5;28mself\u001B[39m\u001B[38;5;241m.\u001B[39mname)\n\u001B[1;32m   1358\u001B[0m \u001B[38;5;28;01mfor\u001B[39;00m temp_arg \u001B[38;5;129;01min\u001B[39;00m temp_args:\n\u001B[1;32m   1359\u001B[0m     \u001B[38;5;28;01mif\u001B[39;00m \u001B[38;5;28mhasattr\u001B[39m(temp_arg, \u001B[38;5;124m\"\u001B[39m\u001B[38;5;124m_detach\u001B[39m\u001B[38;5;124m\"\u001B[39m):\n",
        "File \u001B[0;32m/databricks/spark/python/pyspark/errors/exceptions/captured.py:269\u001B[0m, in \u001B[0;36mcapture_sql_exception.<locals>.deco\u001B[0;34m(*a, **kw)\u001B[0m\n\u001B[1;32m    265\u001B[0m converted \u001B[38;5;241m=\u001B[39m convert_exception(e\u001B[38;5;241m.\u001B[39mjava_exception)\n\u001B[1;32m    266\u001B[0m \u001B[38;5;28;01mif\u001B[39;00m \u001B[38;5;129;01mnot\u001B[39;00m \u001B[38;5;28misinstance\u001B[39m(converted, UnknownException):\n\u001B[1;32m    267\u001B[0m     \u001B[38;5;66;03m# Hide where the exception came from that shows a non-Pythonic\u001B[39;00m\n\u001B[1;32m    268\u001B[0m     \u001B[38;5;66;03m# JVM exception message.\u001B[39;00m\n\u001B[0;32m--> 269\u001B[0m     \u001B[38;5;28;01mraise\u001B[39;00m converted \u001B[38;5;28;01mfrom\u001B[39;00m \u001B[38;5;28;01mNone\u001B[39;00m\n\u001B[1;32m    270\u001B[0m \u001B[38;5;28;01melse\u001B[39;00m:\n\u001B[1;32m    271\u001B[0m     \u001B[38;5;28;01mraise\u001B[39;00m\n",
        "\u001B[0;31mAnalysisException\u001B[0m: [NO_SUCH_CATALOG_EXCEPTION] Catalog 'cars' was not found. Please verify the catalog name and then retry the query or command again."
       ],
       "type": "baseError"
      }
     },
     "output_type": "display_data"
    }
   ],
   "source": [
    "if spark.catalog.tableExists('cars.gold.dim_Model'): \n",
    "    delta_table=Deltatable.forPath(spark,\"abfss://gold@carsmalyanadatalake.dfs.core.windows.net/dim_Model\")\n",
    "\n",
    "    delta_table.alias(\"trg\").merge(df_final.alias(\"src\"),\"trg.dim_Model_key=src.dim_model_key\").whenMatchedUpdateAll().whenNotMatchedInsertAll().execute()\n",
    "else:\n",
    "        df_final.write.format('delta').mode('overwrite').option(\"path\",\"abfss://gold@carsmalyanadatalake.dfs.core.windows.net/dim_Model\").saveAsTable(\"cars.gold.dim_Model\")"
   ]
  }
 ],
 "metadata": {
  "application/vnd.databricks.v1+notebook": {
   "computePreferences": null,
   "dashboards": [],
   "environmentMetadata": {
    "base_environment": "",
    "environment_version": "2"
   },
   "language": "python",
   "notebookMetadata": {
    "mostRecentlyExecutedCommandWithImplicitDF": {
     "commandId": 4264806174803169,
     "dataframes": [
      "_sqldf"
     ]
    },
    "pythonIndentUnit": 4
   },
   "notebookName": "dim_Model_gold",
   "widgets": {
    "incremental_flag": {
     "currentValue": "0",
     "nuid": "9ef0f964-c464-4e66-9831-d1bc974de575",
     "typedWidgetInfo": {
      "autoCreated": false,
      "defaultValue": "0",
      "label": null,
      "name": "incremental_flag",
      "options": {
       "widgetDisplayType": "Text",
       "validationRegex": null
      },
      "parameterDataType": "String"
     },
     "widgetInfo": {
      "widgetType": "text",
      "defaultValue": "0",
      "label": null,
      "name": "incremental_flag",
      "options": {
       "widgetType": "text",
       "autoCreated": null,
       "validationRegex": null
      }
     }
    }
   }
  },
  "language_info": {
   "name": "python"
  }
 },
 "nbformat": 4,
 "nbformat_minor": 0
}
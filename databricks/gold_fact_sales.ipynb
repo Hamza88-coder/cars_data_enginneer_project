{
 "cells": [
  {
   "cell_type": "markdown",
   "metadata": {
    "application/vnd.databricks.v1+cell": {
     "cellMetadata": {},
     "inputWidgets": {},
     "nuid": "1781da2a-9b68-4c6e-a431-5918c6a21e3d",
     "showTitle": false,
     "tableResultSettingsMap": {},
     "title": ""
    }
   },
   "source": [
    "Craete Fact Table"
   ]
  },
  {
   "cell_type": "markdown",
   "metadata": {
    "application/vnd.databricks.v1+cell": {
     "cellMetadata": {},
     "inputWidgets": {},
     "nuid": "d0db1a33-fa82-4389-8dae-7f289cbbd7a1",
     "showTitle": false,
     "tableResultSettingsMap": {},
     "title": ""
    }
   },
   "source": [
    "Reading Silver data"
   ]
  },
  {
   "cell_type": "code",
   "execution_count": 0,
   "metadata": {
    "application/vnd.databricks.v1+cell": {
     "cellMetadata": {
      "byteLimit": 2048000,
      "implicitDf": true,
      "rowLimit": 10000
     },
     "inputWidgets": {},
     "nuid": "b6a31812-0900-4ca9-adf1-a24076806c9b",
     "showTitle": false,
     "tableResultSettingsMap": {},
     "title": ""
    }
   },
   "outputs": [],
   "source": [
    "df = spark.read.parquet(\"abfss://silver@carsmalyanadatalake.dfs.core.windows.net/cars_sales\")\n"
   ]
  },
  {
   "cell_type": "code",
   "execution_count": 0,
   "metadata": {
    "application/vnd.databricks.v1+cell": {
     "cellMetadata": {
      "byteLimit": 2048000,
      "rowLimit": 10000
     },
     "inputWidgets": {},
     "nuid": "c4ad8065-ec1d-4311-9691-88eb2cd368b4",
     "showTitle": false,
     "tableResultSettingsMap": {},
     "title": ""
    }
   },
   "outputs": [],
   "source": [
    "df_silver=df"
   ]
  },
  {
   "cell_type": "markdown",
   "metadata": {
    "application/vnd.databricks.v1+cell": {
     "cellMetadata": {},
     "inputWidgets": {},
     "nuid": "874aba7d-aa79-45dc-afea-acf3e75b0e74",
     "showTitle": false,
     "tableResultSettingsMap": {},
     "title": ""
    }
   },
   "source": [
    "Reading all the DIMS"
   ]
  },
  {
   "cell_type": "code",
   "execution_count": 0,
   "metadata": {
    "application/vnd.databricks.v1+cell": {
     "cellMetadata": {},
     "inputWidgets": {},
     "nuid": "359d5bc6-aaa8-4c16-ace6-aafe1934be99",
     "showTitle": false,
     "tableResultSettingsMap": {},
     "title": ""
    }
   },
   "outputs": [],
   "source": []
  },
  {
   "cell_type": "code",
   "execution_count": 0,
   "metadata": {
    "application/vnd.databricks.v1+cell": {
     "cellMetadata": {
      "byteLimit": 2048000,
      "rowLimit": 10000
     },
     "inputWidgets": {},
     "nuid": "d2280ffe-d893-404a-b822-282b1e28a45f",
     "showTitle": false,
     "tableResultSettingsMap": {},
     "title": ""
    }
   },
   "outputs": [],
   "source": [
    "\n",
    "df_make=spark.sql(\"\"\" select * from cars_cat.gold.dim_make\"\"\")\n",
    "df_Origin=spark.sql(\"\"\" select * from cars_cat.gold.dim_Origin\"\"\")\n",
    "df_DriveTrain=spark.sql(\"\"\" select * from cars_cat.gold.dim_DriveTrain\"\"\")"
   ]
  },
  {
   "cell_type": "code",
   "execution_count": 0,
   "metadata": {
    "application/vnd.databricks.v1+cell": {
     "cellMetadata": {
      "byteLimit": 2048000,
      "rowLimit": 10000
     },
     "inputWidgets": {},
     "nuid": "1e18caa9-cc82-478c-9421-d24ef8ea6f78",
     "showTitle": false,
     "tableResultSettingsMap": {},
     "title": ""
    }
   },
   "outputs": [],
   "source": [
    "df_Model=spark.sql(\"\"\" select * from cars_cat.gold.dim_Model\"\"\")"
   ]
  },
  {
   "cell_type": "markdown",
   "metadata": {
    "application/vnd.databricks.v1+cell": {
     "cellMetadata": {},
     "inputWidgets": {},
     "nuid": "ba1aac6d-c768-4d45-8679-6f7263db7ac0",
     "showTitle": false,
     "tableResultSettingsMap": {},
     "title": ""
    }
   },
   "source": [
    "Brining Keys to the Fact Table"
   ]
  },
  {
   "cell_type": "code",
   "execution_count": 0,
   "metadata": {
    "application/vnd.databricks.v1+cell": {
     "cellMetadata": {
      "byteLimit": 2048000,
      "rowLimit": 10000
     },
     "inputWidgets": {},
     "nuid": "f03acc2e-9efe-4132-b004-db97b8fb6508",
     "showTitle": false,
     "tableResultSettingsMap": {},
     "title": ""
    }
   },
   "outputs": [],
   "source": [
    "df_fact=df_silver.join(df_make, df_silver.Make==df_make.make, \"left\").join(df_Origin, df_silver.Origin==df_Origin.Origin, \"left\").join(df_DriveTrain, df_silver.DriveTrain==df_DriveTrain.DriveTrain, \"left\").join(df_Model, df_silver.Model==df_Model.Model, \"left\").select( \"Type_\",  \"MSRP\", \"Invoice\", \"EngineSize\", \"Cylinders\", \"Horsepower\", \"MPG_City\", \"MPG_Highway\", \"Weight_\", \"Wheelbase\", \"Length\", \"date_id\", \"datenum\", \"year\", \"month\", \"day\",df_DriveTrain[\"dim_DriveTrain_key\"].alias(\"DriveTrain_key\"), df_make[\"dim_make_key\"].alias(\"make_key\"), df_Origin[\"dim_Origin_key\"].alias(\"Origin_key\"), df_Model[\"dim_Model_key\"].alias(\"Model_key\"))"
   ]
  },
  {
   "cell_type": "markdown",
   "metadata": {
    "application/vnd.databricks.v1+cell": {
     "cellMetadata": {},
     "inputWidgets": {},
     "nuid": "145d57da-5903-4e57-abfa-4290f267668f",
     "showTitle": false,
     "tableResultSettingsMap": {},
     "title": ""
    }
   },
   "source": [
    "Writing Fact Table"
   ]
  },
  {
   "cell_type": "code",
   "execution_count": 0,
   "metadata": {
    "application/vnd.databricks.v1+cell": {
     "cellMetadata": {
      "byteLimit": 2048000,
      "rowLimit": 10000
     },
     "inputWidgets": {},
     "nuid": "c820a8a2-8602-40d7-bc6d-20090d015227",
     "showTitle": false,
     "tableResultSettingsMap": {},
     "title": ""
    }
   },
   "outputs": [],
   "source": [
    "from delta.tables import DeltaTable"
   ]
  },
  {
   "cell_type": "code",
   "execution_count": 0,
   "metadata": {
    "application/vnd.databricks.v1+cell": {
     "cellMetadata": {
      "byteLimit": 2048000,
      "rowLimit": 10000
     },
     "inputWidgets": {},
     "nuid": "6b090c50-bcb5-49c5-bbc8-b26273763011",
     "showTitle": false,
     "tableResultSettingsMap": {},
     "title": ""
    }
   },
   "outputs": [],
   "source": [
    "if spark.catalog.tableExists(\"fact_sales\"):\n",
    "    deltatable=DeltaTable.forName(spark,'cars_cat.gold.fact_sales')\n",
    "    deltatable.alias('str').merge(df_fact.alias('src'),'trg.dim_make_key=src.make_key and trg.dim_Origin_key=src.Origin_key and trg.dim_DriveTrain_key=src.DriveTrain_key and trg.dim_Model_key=src.Model_key')\n",
    "else:\n",
    "    df_fact.write.format(\"delta\").mode(\"overwrite\").option('Path',\"abfss://gold@carsmalyanadatalake.dfs.core.windows.net/fact_sales\").saveAsTable(\"cars_cat.gold.fact_sales\")"
   ]
  }
 ],
 "metadata": {
  "application/vnd.databricks.v1+notebook": {
   "computePreferences": null,
   "dashboards": [],
   "environmentMetadata": {
    "base_environment": "",
    "environment_version": "2"
   },
   "language": "python",
   "notebookMetadata": {
    "mostRecentlyExecutedCommandWithImplicitDF": {
     "commandId": -1,
     "dataframes": [
      "_sqldf"
     ]
    },
    "pythonIndentUnit": 4
   },
   "notebookName": "gold_fact_sales",
   "widgets": {}
  },
  "language_info": {
   "name": "python"
  }
 },
 "nbformat": 4,
 "nbformat_minor": 0
}